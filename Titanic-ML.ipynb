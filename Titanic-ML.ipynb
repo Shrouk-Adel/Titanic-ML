{
 "cells": [
  {
   "cell_type": "code",
   "execution_count": 1,
   "id": "7142d26b",
   "metadata": {
    "execution": {
     "iopub.execute_input": "2025-01-04T12:53:48.399127Z",
     "iopub.status.busy": "2025-01-04T12:53:48.398699Z",
     "iopub.status.idle": "2025-01-04T12:53:51.711060Z",
     "shell.execute_reply": "2025-01-04T12:53:51.710149Z"
    },
    "papermill": {
     "duration": 3.328041,
     "end_time": "2025-01-04T12:53:51.712876",
     "exception": false,
     "start_time": "2025-01-04T12:53:48.384835",
     "status": "completed"
    },
    "tags": []
   },
   "outputs": [],
   "source": [
    "import numpy as np\n",
    "import pandas as pd\n",
    "import matplotlib.pyplot as plt \n",
    "import seaborn as sns\n",
    "import re\n",
    "\n",
    "from sklearn.preprocessing import StandardScaler\n",
    "from sklearn.preprocessing import LabelEncoder\n",
    "from collections import Counter\n",
    "from sklearn.model_selection import train_test_split,GridSearchCV\n",
    "from sklearn.linear_model import LogisticRegression\n",
    "from sklearn.tree import DecisionTreeClassifier\n",
    "from sklearn.ensemble import RandomForestClassifier,AdaBoostClassifier,GradientBoostingClassifier,BaggingClassifier,VotingClassifier,StackingClassifier\n",
    "from xgboost import XGBClassifier\n",
    "from sklearn.svm import SVC\n",
    "from sklearn.naive_bayes import GaussianNB\n",
    "# measures \n",
    "from sklearn.metrics import accuracy_score,classification_report,confusion_matrix\n",
    "\n",
    "import warnings\n",
    "warnings.filterwarnings(\"ignore\")\n",
    "%matplotlib inline"
   ]
  },
  {
   "cell_type": "code",
   "execution_count": 2,
   "id": "a5a7ff4a",
   "metadata": {
    "execution": {
     "iopub.execute_input": "2025-01-04T12:53:51.736766Z",
     "iopub.status.busy": "2025-01-04T12:53:51.736281Z",
     "iopub.status.idle": "2025-01-04T12:53:51.783905Z",
     "shell.execute_reply": "2025-01-04T12:53:51.782793Z"
    },
    "papermill": {
     "duration": 0.061413,
     "end_time": "2025-01-04T12:53:51.785857",
     "exception": false,
     "start_time": "2025-01-04T12:53:51.724444",
     "status": "completed"
    },
    "tags": []
   },
   "outputs": [
    {
     "data": {
      "text/html": [
       "<div>\n",
       "<style scoped>\n",
       "    .dataframe tbody tr th:only-of-type {\n",
       "        vertical-align: middle;\n",
       "    }\n",
       "\n",
       "    .dataframe tbody tr th {\n",
       "        vertical-align: top;\n",
       "    }\n",
       "\n",
       "    .dataframe thead th {\n",
       "        text-align: right;\n",
       "    }\n",
       "</style>\n",
       "<table border=\"1\" class=\"dataframe\">\n",
       "  <thead>\n",
       "    <tr style=\"text-align: right;\">\n",
       "      <th></th>\n",
       "      <th>PassengerId</th>\n",
       "      <th>Survived</th>\n",
       "      <th>Pclass</th>\n",
       "      <th>Name</th>\n",
       "      <th>Sex</th>\n",
       "      <th>Age</th>\n",
       "      <th>SibSp</th>\n",
       "      <th>Parch</th>\n",
       "      <th>Ticket</th>\n",
       "      <th>Fare</th>\n",
       "      <th>Cabin</th>\n",
       "      <th>Embarked</th>\n",
       "    </tr>\n",
       "  </thead>\n",
       "  <tbody>\n",
       "    <tr>\n",
       "      <th>0</th>\n",
       "      <td>1</td>\n",
       "      <td>0</td>\n",
       "      <td>3</td>\n",
       "      <td>Braund, Mr. Owen Harris</td>\n",
       "      <td>male</td>\n",
       "      <td>22.0</td>\n",
       "      <td>1</td>\n",
       "      <td>0</td>\n",
       "      <td>A/5 21171</td>\n",
       "      <td>7.2500</td>\n",
       "      <td>NaN</td>\n",
       "      <td>S</td>\n",
       "    </tr>\n",
       "    <tr>\n",
       "      <th>1</th>\n",
       "      <td>2</td>\n",
       "      <td>1</td>\n",
       "      <td>1</td>\n",
       "      <td>Cumings, Mrs. John Bradley (Florence Briggs Th...</td>\n",
       "      <td>female</td>\n",
       "      <td>38.0</td>\n",
       "      <td>1</td>\n",
       "      <td>0</td>\n",
       "      <td>PC 17599</td>\n",
       "      <td>71.2833</td>\n",
       "      <td>C85</td>\n",
       "      <td>C</td>\n",
       "    </tr>\n",
       "    <tr>\n",
       "      <th>2</th>\n",
       "      <td>3</td>\n",
       "      <td>1</td>\n",
       "      <td>3</td>\n",
       "      <td>Heikkinen, Miss. Laina</td>\n",
       "      <td>female</td>\n",
       "      <td>26.0</td>\n",
       "      <td>0</td>\n",
       "      <td>0</td>\n",
       "      <td>STON/O2. 3101282</td>\n",
       "      <td>7.9250</td>\n",
       "      <td>NaN</td>\n",
       "      <td>S</td>\n",
       "    </tr>\n",
       "    <tr>\n",
       "      <th>3</th>\n",
       "      <td>4</td>\n",
       "      <td>1</td>\n",
       "      <td>1</td>\n",
       "      <td>Futrelle, Mrs. Jacques Heath (Lily May Peel)</td>\n",
       "      <td>female</td>\n",
       "      <td>35.0</td>\n",
       "      <td>1</td>\n",
       "      <td>0</td>\n",
       "      <td>113803</td>\n",
       "      <td>53.1000</td>\n",
       "      <td>C123</td>\n",
       "      <td>S</td>\n",
       "    </tr>\n",
       "    <tr>\n",
       "      <th>4</th>\n",
       "      <td>5</td>\n",
       "      <td>0</td>\n",
       "      <td>3</td>\n",
       "      <td>Allen, Mr. William Henry</td>\n",
       "      <td>male</td>\n",
       "      <td>35.0</td>\n",
       "      <td>0</td>\n",
       "      <td>0</td>\n",
       "      <td>373450</td>\n",
       "      <td>8.0500</td>\n",
       "      <td>NaN</td>\n",
       "      <td>S</td>\n",
       "    </tr>\n",
       "  </tbody>\n",
       "</table>\n",
       "</div>"
      ],
      "text/plain": [
       "   PassengerId  Survived  Pclass  \\\n",
       "0            1         0       3   \n",
       "1            2         1       1   \n",
       "2            3         1       3   \n",
       "3            4         1       1   \n",
       "4            5         0       3   \n",
       "\n",
       "                                                Name     Sex   Age  SibSp  \\\n",
       "0                            Braund, Mr. Owen Harris    male  22.0      1   \n",
       "1  Cumings, Mrs. John Bradley (Florence Briggs Th...  female  38.0      1   \n",
       "2                             Heikkinen, Miss. Laina  female  26.0      0   \n",
       "3       Futrelle, Mrs. Jacques Heath (Lily May Peel)  female  35.0      1   \n",
       "4                           Allen, Mr. William Henry    male  35.0      0   \n",
       "\n",
       "   Parch            Ticket     Fare Cabin Embarked  \n",
       "0      0         A/5 21171   7.2500   NaN        S  \n",
       "1      0          PC 17599  71.2833   C85        C  \n",
       "2      0  STON/O2. 3101282   7.9250   NaN        S  \n",
       "3      0            113803  53.1000  C123        S  \n",
       "4      0            373450   8.0500   NaN        S  "
      ]
     },
     "execution_count": 2,
     "metadata": {},
     "output_type": "execute_result"
    }
   ],
   "source": [
    "### load dataset\n",
    "df_train = pd.read_csv('/kaggle/input/titanic/train.csv')\n",
    "df_test =pd.read_csv('/kaggle/input/titanic/test.csv')\n",
    "\n",
    "passenger_ID =df_test['PassengerId']\n",
    "\n",
    "df_train.head(5)\n"
   ]
  },
  {
   "cell_type": "code",
   "execution_count": 3,
   "id": "161d0cd3",
   "metadata": {
    "execution": {
     "iopub.execute_input": "2025-01-04T12:53:51.810100Z",
     "iopub.status.busy": "2025-01-04T12:53:51.809641Z",
     "iopub.status.idle": "2025-01-04T12:53:51.823552Z",
     "shell.execute_reply": "2025-01-04T12:53:51.822508Z"
    },
    "papermill": {
     "duration": 0.027716,
     "end_time": "2025-01-04T12:53:51.825230",
     "exception": false,
     "start_time": "2025-01-04T12:53:51.797514",
     "status": "completed"
    },
    "tags": []
   },
   "outputs": [
    {
     "data": {
      "text/html": [
       "<div>\n",
       "<style scoped>\n",
       "    .dataframe tbody tr th:only-of-type {\n",
       "        vertical-align: middle;\n",
       "    }\n",
       "\n",
       "    .dataframe tbody tr th {\n",
       "        vertical-align: top;\n",
       "    }\n",
       "\n",
       "    .dataframe thead th {\n",
       "        text-align: right;\n",
       "    }\n",
       "</style>\n",
       "<table border=\"1\" class=\"dataframe\">\n",
       "  <thead>\n",
       "    <tr style=\"text-align: right;\">\n",
       "      <th></th>\n",
       "      <th>PassengerId</th>\n",
       "      <th>Pclass</th>\n",
       "      <th>Name</th>\n",
       "      <th>Sex</th>\n",
       "      <th>Age</th>\n",
       "      <th>SibSp</th>\n",
       "      <th>Parch</th>\n",
       "      <th>Ticket</th>\n",
       "      <th>Fare</th>\n",
       "      <th>Cabin</th>\n",
       "      <th>Embarked</th>\n",
       "    </tr>\n",
       "  </thead>\n",
       "  <tbody>\n",
       "    <tr>\n",
       "      <th>0</th>\n",
       "      <td>892</td>\n",
       "      <td>3</td>\n",
       "      <td>Kelly, Mr. James</td>\n",
       "      <td>male</td>\n",
       "      <td>34.5</td>\n",
       "      <td>0</td>\n",
       "      <td>0</td>\n",
       "      <td>330911</td>\n",
       "      <td>7.8292</td>\n",
       "      <td>NaN</td>\n",
       "      <td>Q</td>\n",
       "    </tr>\n",
       "    <tr>\n",
       "      <th>1</th>\n",
       "      <td>893</td>\n",
       "      <td>3</td>\n",
       "      <td>Wilkes, Mrs. James (Ellen Needs)</td>\n",
       "      <td>female</td>\n",
       "      <td>47.0</td>\n",
       "      <td>1</td>\n",
       "      <td>0</td>\n",
       "      <td>363272</td>\n",
       "      <td>7.0000</td>\n",
       "      <td>NaN</td>\n",
       "      <td>S</td>\n",
       "    </tr>\n",
       "    <tr>\n",
       "      <th>2</th>\n",
       "      <td>894</td>\n",
       "      <td>2</td>\n",
       "      <td>Myles, Mr. Thomas Francis</td>\n",
       "      <td>male</td>\n",
       "      <td>62.0</td>\n",
       "      <td>0</td>\n",
       "      <td>0</td>\n",
       "      <td>240276</td>\n",
       "      <td>9.6875</td>\n",
       "      <td>NaN</td>\n",
       "      <td>Q</td>\n",
       "    </tr>\n",
       "    <tr>\n",
       "      <th>3</th>\n",
       "      <td>895</td>\n",
       "      <td>3</td>\n",
       "      <td>Wirz, Mr. Albert</td>\n",
       "      <td>male</td>\n",
       "      <td>27.0</td>\n",
       "      <td>0</td>\n",
       "      <td>0</td>\n",
       "      <td>315154</td>\n",
       "      <td>8.6625</td>\n",
       "      <td>NaN</td>\n",
       "      <td>S</td>\n",
       "    </tr>\n",
       "    <tr>\n",
       "      <th>4</th>\n",
       "      <td>896</td>\n",
       "      <td>3</td>\n",
       "      <td>Hirvonen, Mrs. Alexander (Helga E Lindqvist)</td>\n",
       "      <td>female</td>\n",
       "      <td>22.0</td>\n",
       "      <td>1</td>\n",
       "      <td>1</td>\n",
       "      <td>3101298</td>\n",
       "      <td>12.2875</td>\n",
       "      <td>NaN</td>\n",
       "      <td>S</td>\n",
       "    </tr>\n",
       "  </tbody>\n",
       "</table>\n",
       "</div>"
      ],
      "text/plain": [
       "   PassengerId  Pclass                                          Name     Sex  \\\n",
       "0          892       3                              Kelly, Mr. James    male   \n",
       "1          893       3              Wilkes, Mrs. James (Ellen Needs)  female   \n",
       "2          894       2                     Myles, Mr. Thomas Francis    male   \n",
       "3          895       3                              Wirz, Mr. Albert    male   \n",
       "4          896       3  Hirvonen, Mrs. Alexander (Helga E Lindqvist)  female   \n",
       "\n",
       "    Age  SibSp  Parch   Ticket     Fare Cabin Embarked  \n",
       "0  34.5      0      0   330911   7.8292   NaN        Q  \n",
       "1  47.0      1      0   363272   7.0000   NaN        S  \n",
       "2  62.0      0      0   240276   9.6875   NaN        Q  \n",
       "3  27.0      0      0   315154   8.6625   NaN        S  \n",
       "4  22.0      1      1  3101298  12.2875   NaN        S  "
      ]
     },
     "execution_count": 3,
     "metadata": {},
     "output_type": "execute_result"
    }
   ],
   "source": [
    "df_test.head(5)"
   ]
  },
  {
   "cell_type": "code",
   "execution_count": 4,
   "id": "d0ed79c6",
   "metadata": {
    "execution": {
     "iopub.execute_input": "2025-01-04T12:53:51.850316Z",
     "iopub.status.busy": "2025-01-04T12:53:51.849906Z",
     "iopub.status.idle": "2025-01-04T12:53:51.868150Z",
     "shell.execute_reply": "2025-01-04T12:53:51.867056Z"
    },
    "papermill": {
     "duration": 0.032453,
     "end_time": "2025-01-04T12:53:51.869845",
     "exception": false,
     "start_time": "2025-01-04T12:53:51.837392",
     "status": "completed"
    },
    "tags": []
   },
   "outputs": [
    {
     "data": {
      "text/plain": [
       "0"
      ]
     },
     "execution_count": 4,
     "metadata": {},
     "output_type": "execute_result"
    }
   ],
   "source": [
    "df_train.duplicated().sum()"
   ]
  },
  {
   "cell_type": "code",
   "execution_count": 5,
   "id": "fa07e8e4",
   "metadata": {
    "execution": {
     "iopub.execute_input": "2025-01-04T12:53:51.894555Z",
     "iopub.status.busy": "2025-01-04T12:53:51.894181Z",
     "iopub.status.idle": "2025-01-04T12:53:51.899932Z",
     "shell.execute_reply": "2025-01-04T12:53:51.898869Z"
    },
    "papermill": {
     "duration": 0.019844,
     "end_time": "2025-01-04T12:53:51.901649",
     "exception": false,
     "start_time": "2025-01-04T12:53:51.881805",
     "status": "completed"
    },
    "tags": []
   },
   "outputs": [
    {
     "data": {
      "text/plain": [
       "((891, 12), (418, 11))"
      ]
     },
     "execution_count": 5,
     "metadata": {},
     "output_type": "execute_result"
    }
   ],
   "source": [
    "df_train.shape,df_test.shape"
   ]
  },
  {
   "cell_type": "code",
   "execution_count": 6,
   "id": "80030c33",
   "metadata": {
    "execution": {
     "iopub.execute_input": "2025-01-04T12:53:51.926827Z",
     "iopub.status.busy": "2025-01-04T12:53:51.926459Z",
     "iopub.status.idle": "2025-01-04T12:53:51.950953Z",
     "shell.execute_reply": "2025-01-04T12:53:51.949564Z"
    },
    "papermill": {
     "duration": 0.039375,
     "end_time": "2025-01-04T12:53:51.952929",
     "exception": false,
     "start_time": "2025-01-04T12:53:51.913554",
     "status": "completed"
    },
    "tags": []
   },
   "outputs": [
    {
     "name": "stdout",
     "output_type": "stream",
     "text": [
      "<class 'pandas.core.frame.DataFrame'>\n",
      "RangeIndex: 891 entries, 0 to 890\n",
      "Data columns (total 12 columns):\n",
      " #   Column       Non-Null Count  Dtype  \n",
      "---  ------       --------------  -----  \n",
      " 0   PassengerId  891 non-null    int64  \n",
      " 1   Survived     891 non-null    int64  \n",
      " 2   Pclass       891 non-null    int64  \n",
      " 3   Name         891 non-null    object \n",
      " 4   Sex          891 non-null    object \n",
      " 5   Age          714 non-null    float64\n",
      " 6   SibSp        891 non-null    int64  \n",
      " 7   Parch        891 non-null    int64  \n",
      " 8   Ticket       891 non-null    object \n",
      " 9   Fare         891 non-null    float64\n",
      " 10  Cabin        204 non-null    object \n",
      " 11  Embarked     889 non-null    object \n",
      "dtypes: float64(2), int64(5), object(5)\n",
      "memory usage: 83.7+ KB\n"
     ]
    }
   ],
   "source": [
    "df_train.info()"
   ]
  },
  {
   "cell_type": "code",
   "execution_count": 7,
   "id": "c4097028",
   "metadata": {
    "execution": {
     "iopub.execute_input": "2025-01-04T12:53:51.977438Z",
     "iopub.status.busy": "2025-01-04T12:53:51.977045Z",
     "iopub.status.idle": "2025-01-04T12:53:51.984910Z",
     "shell.execute_reply": "2025-01-04T12:53:51.983927Z"
    },
    "papermill": {
     "duration": 0.022034,
     "end_time": "2025-01-04T12:53:51.986554",
     "exception": false,
     "start_time": "2025-01-04T12:53:51.964520",
     "status": "completed"
    },
    "tags": []
   },
   "outputs": [
    {
     "data": {
      "text/plain": [
       "PassengerId      0\n",
       "Survived         0\n",
       "Pclass           0\n",
       "Name             0\n",
       "Sex              0\n",
       "Age            177\n",
       "SibSp            0\n",
       "Parch            0\n",
       "Ticket           0\n",
       "Fare             0\n",
       "Cabin          687\n",
       "Embarked         2\n",
       "dtype: int64"
      ]
     },
     "execution_count": 7,
     "metadata": {},
     "output_type": "execute_result"
    }
   ],
   "source": [
    "df_train.isnull().sum()"
   ]
  },
  {
   "cell_type": "code",
   "execution_count": 8,
   "id": "50bb08fe",
   "metadata": {
    "execution": {
     "iopub.execute_input": "2025-01-04T12:53:52.012459Z",
     "iopub.status.busy": "2025-01-04T12:53:52.012085Z",
     "iopub.status.idle": "2025-01-04T12:53:52.019457Z",
     "shell.execute_reply": "2025-01-04T12:53:52.018404Z"
    },
    "papermill": {
     "duration": 0.021444,
     "end_time": "2025-01-04T12:53:52.020942",
     "exception": false,
     "start_time": "2025-01-04T12:53:51.999498",
     "status": "completed"
    },
    "tags": []
   },
   "outputs": [
    {
     "data": {
      "text/plain": [
       "PassengerId      0\n",
       "Pclass           0\n",
       "Name             0\n",
       "Sex              0\n",
       "Age             86\n",
       "SibSp            0\n",
       "Parch            0\n",
       "Ticket           0\n",
       "Fare             1\n",
       "Cabin          327\n",
       "Embarked         0\n",
       "dtype: int64"
      ]
     },
     "execution_count": 8,
     "metadata": {},
     "output_type": "execute_result"
    }
   ],
   "source": [
    "df_test.isnull().sum()"
   ]
  },
  {
   "cell_type": "markdown",
   "id": "926cf261",
   "metadata": {
    "papermill": {
     "duration": 0.011844,
     "end_time": "2025-01-04T12:53:52.044635",
     "exception": false,
     "start_time": "2025-01-04T12:53:52.032791",
     "status": "completed"
    },
    "tags": []
   },
   "source": [
    "__Observation__ :\n",
    "\n",
    "```Train```\n",
    "- Age has 177 null values\n",
    "-  Cabin has 687 null values\n",
    "-  Embarked has 2 null values\n",
    "\n",
    "```Test```\n",
    "- Age has 86 null values\n",
    "- Fare has 1 null values\n",
    "-  Cabin has 327 null values"
   ]
  },
  {
   "cell_type": "markdown",
   "id": "051e2436",
   "metadata": {
    "papermill": {
     "duration": 0.011669,
     "end_time": "2025-01-04T12:53:52.068046",
     "exception": false,
     "start_time": "2025-01-04T12:53:52.056377",
     "status": "completed"
    },
    "tags": []
   },
   "source": [
    "### Handel Null values \n",
    "fill null values with : \n",
    "- median for numerical feaures \n",
    "- mode for categorical features"
   ]
  },
  {
   "cell_type": "code",
   "execution_count": 9,
   "id": "b34b9ddb",
   "metadata": {
    "execution": {
     "iopub.execute_input": "2025-01-04T12:53:52.092590Z",
     "iopub.status.busy": "2025-01-04T12:53:52.092190Z",
     "iopub.status.idle": "2025-01-04T12:53:52.106491Z",
     "shell.execute_reply": "2025-01-04T12:53:52.105418Z"
    },
    "papermill": {
     "duration": 0.028837,
     "end_time": "2025-01-04T12:53:52.108450",
     "exception": false,
     "start_time": "2025-01-04T12:53:52.079613",
     "status": "completed"
    },
    "tags": []
   },
   "outputs": [],
   "source": [
    "full_data=[df_train,df_test]\n",
    "for df in full_data:\n",
    "    df['Embarked']=df['Embarked'].fillna(df['Embarked'].mode()[0])\n",
    "    df['Fare'] = df['Fare'].fillna(df['Fare'].median())\n",
    "    df['Age'] = df['Age'].fillna(df['Age'].median())"
   ]
  },
  {
   "cell_type": "code",
   "execution_count": 10,
   "id": "ff214a5a",
   "metadata": {
    "execution": {
     "iopub.execute_input": "2025-01-04T12:53:52.134630Z",
     "iopub.status.busy": "2025-01-04T12:53:52.134254Z",
     "iopub.status.idle": "2025-01-04T12:53:52.148251Z",
     "shell.execute_reply": "2025-01-04T12:53:52.147131Z"
    },
    "papermill": {
     "duration": 0.029356,
     "end_time": "2025-01-04T12:53:52.150002",
     "exception": false,
     "start_time": "2025-01-04T12:53:52.120646",
     "status": "completed"
    },
    "tags": []
   },
   "outputs": [
    {
     "data": {
      "text/plain": [
       "((0, 12), (0, 11))"
      ]
     },
     "execution_count": 10,
     "metadata": {},
     "output_type": "execute_result"
    }
   ],
   "source": [
    "## check for duplication \n",
    "df_train[df_train.duplicated()].shape,df_test[df_test.duplicated()].shape"
   ]
  },
  {
   "cell_type": "markdown",
   "id": "53543c83",
   "metadata": {
    "papermill": {
     "duration": 0.012369,
     "end_time": "2025-01-04T12:53:52.174359",
     "exception": false,
     "start_time": "2025-01-04T12:53:52.161990",
     "status": "completed"
    },
    "tags": []
   },
   "source": [
    "__observation__:\n",
    "- thier is no duplication on dataset"
   ]
  },
  {
   "cell_type": "code",
   "execution_count": 11,
   "id": "ca9be9f1",
   "metadata": {
    "execution": {
     "iopub.execute_input": "2025-01-04T12:53:52.199366Z",
     "iopub.status.busy": "2025-01-04T12:53:52.198903Z",
     "iopub.status.idle": "2025-01-04T12:53:52.207687Z",
     "shell.execute_reply": "2025-01-04T12:53:52.206209Z"
    },
    "papermill": {
     "duration": 0.023356,
     "end_time": "2025-01-04T12:53:52.209630",
     "exception": false,
     "start_time": "2025-01-04T12:53:52.186274",
     "status": "completed"
    },
    "tags": []
   },
   "outputs": [
    {
     "name": "stdout",
     "output_type": "stream",
     "text": [
      "PassengerId      0\n",
      "Survived         0\n",
      "Pclass           0\n",
      "Name             0\n",
      "Sex              0\n",
      "Age              0\n",
      "SibSp            0\n",
      "Parch            0\n",
      "Ticket           0\n",
      "Fare             0\n",
      "Cabin          687\n",
      "Embarked         0\n",
      "dtype: int64\n",
      "PassengerId      0\n",
      "Pclass           0\n",
      "Name             0\n",
      "Sex              0\n",
      "Age              0\n",
      "SibSp            0\n",
      "Parch            0\n",
      "Ticket           0\n",
      "Fare             0\n",
      "Cabin          327\n",
      "Embarked         0\n",
      "dtype: int64\n"
     ]
    }
   ],
   "source": [
    "print(df_train.isnull().sum())\n",
    "print(df_test.isnull().sum())"
   ]
  },
  {
   "cell_type": "code",
   "execution_count": 12,
   "id": "093396d9",
   "metadata": {
    "execution": {
     "iopub.execute_input": "2025-01-04T12:53:52.235057Z",
     "iopub.status.busy": "2025-01-04T12:53:52.234659Z",
     "iopub.status.idle": "2025-01-04T12:53:52.260314Z",
     "shell.execute_reply": "2025-01-04T12:53:52.259233Z"
    },
    "papermill": {
     "duration": 0.04013,
     "end_time": "2025-01-04T12:53:52.262040",
     "exception": false,
     "start_time": "2025-01-04T12:53:52.221910",
     "status": "completed"
    },
    "tags": []
   },
   "outputs": [
    {
     "data": {
      "text/html": [
       "<div>\n",
       "<style scoped>\n",
       "    .dataframe tbody tr th:only-of-type {\n",
       "        vertical-align: middle;\n",
       "    }\n",
       "\n",
       "    .dataframe tbody tr th {\n",
       "        vertical-align: top;\n",
       "    }\n",
       "\n",
       "    .dataframe thead th {\n",
       "        text-align: right;\n",
       "    }\n",
       "</style>\n",
       "<table border=\"1\" class=\"dataframe\">\n",
       "  <thead>\n",
       "    <tr style=\"text-align: right;\">\n",
       "      <th></th>\n",
       "      <th>PassengerId</th>\n",
       "      <th>Survived</th>\n",
       "      <th>Pclass</th>\n",
       "      <th>Age</th>\n",
       "      <th>SibSp</th>\n",
       "      <th>Parch</th>\n",
       "      <th>Fare</th>\n",
       "    </tr>\n",
       "  </thead>\n",
       "  <tbody>\n",
       "    <tr>\n",
       "      <th>count</th>\n",
       "      <td>891.000000</td>\n",
       "      <td>891.000000</td>\n",
       "      <td>891.000000</td>\n",
       "      <td>891.000000</td>\n",
       "      <td>891.000000</td>\n",
       "      <td>891.000000</td>\n",
       "      <td>891.000000</td>\n",
       "    </tr>\n",
       "    <tr>\n",
       "      <th>mean</th>\n",
       "      <td>446.000000</td>\n",
       "      <td>0.383838</td>\n",
       "      <td>2.308642</td>\n",
       "      <td>29.361582</td>\n",
       "      <td>0.523008</td>\n",
       "      <td>0.381594</td>\n",
       "      <td>32.204208</td>\n",
       "    </tr>\n",
       "    <tr>\n",
       "      <th>std</th>\n",
       "      <td>257.353842</td>\n",
       "      <td>0.486592</td>\n",
       "      <td>0.836071</td>\n",
       "      <td>13.019697</td>\n",
       "      <td>1.102743</td>\n",
       "      <td>0.806057</td>\n",
       "      <td>49.693429</td>\n",
       "    </tr>\n",
       "    <tr>\n",
       "      <th>min</th>\n",
       "      <td>1.000000</td>\n",
       "      <td>0.000000</td>\n",
       "      <td>1.000000</td>\n",
       "      <td>0.420000</td>\n",
       "      <td>0.000000</td>\n",
       "      <td>0.000000</td>\n",
       "      <td>0.000000</td>\n",
       "    </tr>\n",
       "    <tr>\n",
       "      <th>25%</th>\n",
       "      <td>223.500000</td>\n",
       "      <td>0.000000</td>\n",
       "      <td>2.000000</td>\n",
       "      <td>22.000000</td>\n",
       "      <td>0.000000</td>\n",
       "      <td>0.000000</td>\n",
       "      <td>7.910400</td>\n",
       "    </tr>\n",
       "    <tr>\n",
       "      <th>50%</th>\n",
       "      <td>446.000000</td>\n",
       "      <td>0.000000</td>\n",
       "      <td>3.000000</td>\n",
       "      <td>28.000000</td>\n",
       "      <td>0.000000</td>\n",
       "      <td>0.000000</td>\n",
       "      <td>14.454200</td>\n",
       "    </tr>\n",
       "    <tr>\n",
       "      <th>75%</th>\n",
       "      <td>668.500000</td>\n",
       "      <td>1.000000</td>\n",
       "      <td>3.000000</td>\n",
       "      <td>35.000000</td>\n",
       "      <td>1.000000</td>\n",
       "      <td>0.000000</td>\n",
       "      <td>31.000000</td>\n",
       "    </tr>\n",
       "    <tr>\n",
       "      <th>max</th>\n",
       "      <td>891.000000</td>\n",
       "      <td>1.000000</td>\n",
       "      <td>3.000000</td>\n",
       "      <td>80.000000</td>\n",
       "      <td>8.000000</td>\n",
       "      <td>6.000000</td>\n",
       "      <td>512.329200</td>\n",
       "    </tr>\n",
       "  </tbody>\n",
       "</table>\n",
       "</div>"
      ],
      "text/plain": [
       "       PassengerId    Survived      Pclass         Age       SibSp  \\\n",
       "count   891.000000  891.000000  891.000000  891.000000  891.000000   \n",
       "mean    446.000000    0.383838    2.308642   29.361582    0.523008   \n",
       "std     257.353842    0.486592    0.836071   13.019697    1.102743   \n",
       "min       1.000000    0.000000    1.000000    0.420000    0.000000   \n",
       "25%     223.500000    0.000000    2.000000   22.000000    0.000000   \n",
       "50%     446.000000    0.000000    3.000000   28.000000    0.000000   \n",
       "75%     668.500000    1.000000    3.000000   35.000000    1.000000   \n",
       "max     891.000000    1.000000    3.000000   80.000000    8.000000   \n",
       "\n",
       "            Parch        Fare  \n",
       "count  891.000000  891.000000  \n",
       "mean     0.381594   32.204208  \n",
       "std      0.806057   49.693429  \n",
       "min      0.000000    0.000000  \n",
       "25%      0.000000    7.910400  \n",
       "50%      0.000000   14.454200  \n",
       "75%      0.000000   31.000000  \n",
       "max      6.000000  512.329200  "
      ]
     },
     "execution_count": 12,
     "metadata": {},
     "output_type": "execute_result"
    }
   ],
   "source": [
    "df_train.describe()"
   ]
  },
  {
   "cell_type": "markdown",
   "id": "d8730a06",
   "metadata": {
    "papermill": {
     "duration": 0.011953,
     "end_time": "2025-01-04T12:53:52.286165",
     "exception": false,
     "start_time": "2025-01-04T12:53:52.274212",
     "status": "completed"
    },
    "tags": []
   },
   "source": [
    "### Feature Engineering"
   ]
  },
  {
   "cell_type": "code",
   "execution_count": 13,
   "id": "8deea91a",
   "metadata": {
    "execution": {
     "iopub.execute_input": "2025-01-04T12:53:52.312013Z",
     "iopub.status.busy": "2025-01-04T12:53:52.311600Z",
     "iopub.status.idle": "2025-01-04T12:53:52.337132Z",
     "shell.execute_reply": "2025-01-04T12:53:52.336211Z"
    },
    "papermill": {
     "duration": 0.040724,
     "end_time": "2025-01-04T12:53:52.339118",
     "exception": false,
     "start_time": "2025-01-04T12:53:52.298394",
     "status": "completed"
    },
    "tags": []
   },
   "outputs": [],
   "source": [
    "full_data=[df_train,df_test]\n",
    "\n",
    "\n",
    "for df in full_data:\n",
    "    # create new feature called family_size\n",
    "    df['family_size'] = df['SibSp'] + df['Parch'] + 1\n",
    "\n",
    "   # create new feature called IsAlone\n",
    "    df['IsAlone'] = 0\n",
    "    df.loc[df['family_size']==1,'IsAlone' ] =1\n",
    "    \n",
    "    df['Farebin']=pd.qcut(df['Fare'],4)  # we used q_cut because we care about datapoints and split it using quantils\n",
    "    df['Agebin'] = pd.cut(df['Age'].astype(int),5)  # Cut --> we care about range of bins\n",
    "\n",
    "# create function to extract title name of passenger\n",
    "def get_title(name):\n",
    "    title_search=re.search(' ([A-Za-z]+)\\.',name)\n",
    "    if title_search:\n",
    "        return title_search.group(1)\n",
    "    return \"\"\n",
    "\n",
    "# Create a new feature Title, containing the titles of passenger names\n",
    "for dataset in full_data:\n",
    "    dataset['Title'] = dataset['Name'].apply(get_title)\n"
   ]
  },
  {
   "cell_type": "code",
   "execution_count": 14,
   "id": "f5b49125",
   "metadata": {
    "execution": {
     "iopub.execute_input": "2025-01-04T12:53:52.365677Z",
     "iopub.status.busy": "2025-01-04T12:53:52.365195Z",
     "iopub.status.idle": "2025-01-04T12:53:52.375314Z",
     "shell.execute_reply": "2025-01-04T12:53:52.373808Z"
    },
    "papermill": {
     "duration": 0.025346,
     "end_time": "2025-01-04T12:53:52.377065",
     "exception": false,
     "start_time": "2025-01-04T12:53:52.351719",
     "status": "completed"
    },
    "tags": []
   },
   "outputs": [
    {
     "name": "stdout",
     "output_type": "stream",
     "text": [
      "Farebin\n",
      "(7.91, 14.454]     224\n",
      "(-0.001, 7.91]     223\n",
      "(14.454, 31.0]     222\n",
      "(31.0, 512.329]    222\n",
      "Name: count, dtype: int64\n",
      "Agebin\n",
      "(16.0, 32.0]     525\n",
      "(32.0, 48.0]     186\n",
      "(-0.08, 16.0]    100\n",
      "(48.0, 64.0]      69\n",
      "(64.0, 80.0]      11\n",
      "Name: count, dtype: int64\n"
     ]
    }
   ],
   "source": [
    "print(df_train['Farebin'].value_counts())\n",
    "print(df_train['Agebin'].value_counts())"
   ]
  },
  {
   "cell_type": "code",
   "execution_count": 15,
   "id": "22c86d6c",
   "metadata": {
    "execution": {
     "iopub.execute_input": "2025-01-04T12:53:52.403579Z",
     "iopub.status.busy": "2025-01-04T12:53:52.403190Z",
     "iopub.status.idle": "2025-01-04T12:53:52.410754Z",
     "shell.execute_reply": "2025-01-04T12:53:52.409831Z"
    },
    "papermill": {
     "duration": 0.023091,
     "end_time": "2025-01-04T12:53:52.412567",
     "exception": false,
     "start_time": "2025-01-04T12:53:52.389476",
     "status": "completed"
    },
    "tags": []
   },
   "outputs": [
    {
     "data": {
      "text/plain": [
       "Title\n",
       "Mr          517\n",
       "Miss        182\n",
       "Mrs         125\n",
       "Master       40\n",
       "Dr            7\n",
       "Rev           6\n",
       "Mlle          2\n",
       "Major         2\n",
       "Col           2\n",
       "Countess      1\n",
       "Capt          1\n",
       "Ms            1\n",
       "Sir           1\n",
       "Lady          1\n",
       "Mme           1\n",
       "Don           1\n",
       "Jonkheer      1\n",
       "Name: count, dtype: int64"
      ]
     },
     "execution_count": 15,
     "metadata": {},
     "output_type": "execute_result"
    }
   ],
   "source": [
    "df_train['Title'].value_counts()"
   ]
  },
  {
   "cell_type": "code",
   "execution_count": 16,
   "id": "86ee12a3",
   "metadata": {
    "execution": {
     "iopub.execute_input": "2025-01-04T12:53:52.438282Z",
     "iopub.status.busy": "2025-01-04T12:53:52.437907Z",
     "iopub.status.idle": "2025-01-04T12:53:52.448739Z",
     "shell.execute_reply": "2025-01-04T12:53:52.447828Z"
    },
    "papermill": {
     "duration": 0.025601,
     "end_time": "2025-01-04T12:53:52.450607",
     "exception": false,
     "start_time": "2025-01-04T12:53:52.425006",
     "status": "completed"
    },
    "tags": []
   },
   "outputs": [],
   "source": [
    "# Group all non-common titles into one single grouping \"Rare\"\n",
    "for dataset in full_data: \n",
    "    dataset['Title'] = dataset['Title'].replace (['Dr','Rev','Col','Major','Don','Lady','Sir','Capt','Countess','Jonkheer'],'Rare')\n",
    "    \n",
    "    dataset['Title'] = dataset['Title'].replace('Mlle', 'Miss')\n",
    "    dataset['Title'] = dataset['Title'].replace('Ms', 'Miss')\n",
    "    dataset['Title'] = dataset['Title'].replace('Mme', 'Mrs')"
   ]
  },
  {
   "cell_type": "code",
   "execution_count": 17,
   "id": "848324f8",
   "metadata": {
    "execution": {
     "iopub.execute_input": "2025-01-04T12:53:52.476839Z",
     "iopub.status.busy": "2025-01-04T12:53:52.476496Z",
     "iopub.status.idle": "2025-01-04T12:53:52.499739Z",
     "shell.execute_reply": "2025-01-04T12:53:52.498686Z"
    },
    "papermill": {
     "duration": 0.038438,
     "end_time": "2025-01-04T12:53:52.501806",
     "exception": false,
     "start_time": "2025-01-04T12:53:52.463368",
     "status": "completed"
    },
    "tags": []
   },
   "outputs": [],
   "source": [
    "# Mapping Title and sex\n",
    "for dataset in full_data:\n",
    "    # Mapping Sex\n",
    "    dataset['Sex'] = dataset['Sex'].map( {'female': 0, 'male': 1} ).astype(int)\n",
    "    \n",
    "    # Mapping titles\n",
    "    title_mapping = {\"Mr\": 1, \"Miss\": 2, \"Mrs\": 3, \"Master\": 4, \"Rare\": 5}\n",
    "    dataset['Title'] = dataset['Title'].map(title_mapping)\n",
    "    dataset['Title'] = dataset['Title'].fillna(0)\n",
    "\n",
    "    # Mapping Embarked\n",
    "    dataset['Embarked'] = dataset['Embarked'].map( {'S': 0, 'C': 1, 'Q': 2} ).astype(int)\n",
    "    \n",
    "    # Mapping Fare\n",
    "    dataset.loc[ dataset['Fare'] <= 7.91, 'Fare'] = 0\n",
    "    dataset.loc[(dataset['Fare'] > 7.91) & (dataset['Fare'] <= 14.454), 'Fare']= 1\n",
    "    dataset.loc[(dataset['Fare'] > 14.454) & (dataset['Fare'] <= 31), 'Fare']= 2\n",
    "    dataset.loc[ dataset['Fare'] > 31, 'Fare']= 3\n",
    "    dataset['Fare'] = dataset['Fare'].astype(int)\n",
    "    \n",
    "    # Mapping Age\n",
    "    dataset.loc[ dataset['Age'] <= 16, 'Age'] = 0\n",
    "    dataset.loc[(dataset['Age'] > 16) & (dataset['Age'] <= 32), 'Age'] = 1\n",
    "    dataset.loc[(dataset['Age'] > 32) & (dataset['Age'] <= 48), 'Age'] = 2\n",
    "    dataset.loc[(dataset['Age'] > 48) & (dataset['Age'] <= 64), 'Age'] = 3\n",
    "    dataset.loc[ dataset['Age'] > 64, 'Age'] = 4 \n",
    "    dataset['Age']=dataset['Age'].astype(int)"
   ]
  },
  {
   "cell_type": "code",
   "execution_count": 18,
   "id": "2f4127cf",
   "metadata": {
    "execution": {
     "iopub.execute_input": "2025-01-04T12:53:52.527371Z",
     "iopub.status.busy": "2025-01-04T12:53:52.527010Z",
     "iopub.status.idle": "2025-01-04T12:53:52.533079Z",
     "shell.execute_reply": "2025-01-04T12:53:52.532171Z"
    },
    "papermill": {
     "duration": 0.020449,
     "end_time": "2025-01-04T12:53:52.534604",
     "exception": false,
     "start_time": "2025-01-04T12:53:52.514155",
     "status": "completed"
    },
    "tags": []
   },
   "outputs": [
    {
     "data": {
      "text/plain": [
       "687"
      ]
     },
     "execution_count": 18,
     "metadata": {},
     "output_type": "execute_result"
    }
   ],
   "source": [
    "df_train['Cabin'].isnull().sum()"
   ]
  },
  {
   "cell_type": "code",
   "execution_count": 19,
   "id": "8f16d590",
   "metadata": {
    "execution": {
     "iopub.execute_input": "2025-01-04T12:53:52.561097Z",
     "iopub.status.busy": "2025-01-04T12:53:52.560670Z",
     "iopub.status.idle": "2025-01-04T12:53:52.570500Z",
     "shell.execute_reply": "2025-01-04T12:53:52.569400Z"
    },
    "papermill": {
     "duration": 0.025058,
     "end_time": "2025-01-04T12:53:52.572112",
     "exception": false,
     "start_time": "2025-01-04T12:53:52.547054",
     "status": "completed"
    },
    "tags": []
   },
   "outputs": [],
   "source": [
    "df_train['Words_Count'] = df_train['Name'].apply(lambda x: len(x.split()))\n",
    "df_test['Words_Count'] = df_test['Name'].apply(lambda x: len(x.split()))\n",
    "\n",
    "# Feature that tells whether a passenger had a cabin on the Titanic\n",
    "df_train['Has_Cabin'] = df_train[\"Cabin\"].apply(lambda x: 0 if type(x) == float else 1)  # if values is nan replace it with 0 else 1\n",
    "df_test['Has_Cabin'] = df_test[\"Cabin\"].apply(lambda x: 0 if type(x) == float else 1)"
   ]
  },
  {
   "cell_type": "code",
   "execution_count": 20,
   "id": "31c7893c",
   "metadata": {
    "execution": {
     "iopub.execute_input": "2025-01-04T12:53:52.599114Z",
     "iopub.status.busy": "2025-01-04T12:53:52.598698Z",
     "iopub.status.idle": "2025-01-04T12:53:52.615945Z",
     "shell.execute_reply": "2025-01-04T12:53:52.614836Z"
    },
    "papermill": {
     "duration": 0.032203,
     "end_time": "2025-01-04T12:53:52.617512",
     "exception": false,
     "start_time": "2025-01-04T12:53:52.585309",
     "status": "completed"
    },
    "tags": []
   },
   "outputs": [
    {
     "data": {
      "text/html": [
       "<div>\n",
       "<style scoped>\n",
       "    .dataframe tbody tr th:only-of-type {\n",
       "        vertical-align: middle;\n",
       "    }\n",
       "\n",
       "    .dataframe tbody tr th {\n",
       "        vertical-align: top;\n",
       "    }\n",
       "\n",
       "    .dataframe thead th {\n",
       "        text-align: right;\n",
       "    }\n",
       "</style>\n",
       "<table border=\"1\" class=\"dataframe\">\n",
       "  <thead>\n",
       "    <tr style=\"text-align: right;\">\n",
       "      <th></th>\n",
       "      <th>PassengerId</th>\n",
       "      <th>Survived</th>\n",
       "      <th>Pclass</th>\n",
       "      <th>Name</th>\n",
       "      <th>Sex</th>\n",
       "      <th>Age</th>\n",
       "      <th>SibSp</th>\n",
       "      <th>Parch</th>\n",
       "      <th>Ticket</th>\n",
       "      <th>Fare</th>\n",
       "      <th>Cabin</th>\n",
       "      <th>Embarked</th>\n",
       "      <th>family_size</th>\n",
       "      <th>IsAlone</th>\n",
       "      <th>Farebin</th>\n",
       "      <th>Agebin</th>\n",
       "      <th>Title</th>\n",
       "      <th>Words_Count</th>\n",
       "      <th>Has_Cabin</th>\n",
       "    </tr>\n",
       "  </thead>\n",
       "  <tbody>\n",
       "    <tr>\n",
       "      <th>0</th>\n",
       "      <td>1</td>\n",
       "      <td>0</td>\n",
       "      <td>3</td>\n",
       "      <td>Braund, Mr. Owen Harris</td>\n",
       "      <td>1</td>\n",
       "      <td>1</td>\n",
       "      <td>1</td>\n",
       "      <td>0</td>\n",
       "      <td>A/5 21171</td>\n",
       "      <td>0</td>\n",
       "      <td>NaN</td>\n",
       "      <td>0</td>\n",
       "      <td>2</td>\n",
       "      <td>0</td>\n",
       "      <td>(-0.001, 7.91]</td>\n",
       "      <td>(16.0, 32.0]</td>\n",
       "      <td>1</td>\n",
       "      <td>4</td>\n",
       "      <td>0</td>\n",
       "    </tr>\n",
       "    <tr>\n",
       "      <th>1</th>\n",
       "      <td>2</td>\n",
       "      <td>1</td>\n",
       "      <td>1</td>\n",
       "      <td>Cumings, Mrs. John Bradley (Florence Briggs Th...</td>\n",
       "      <td>0</td>\n",
       "      <td>2</td>\n",
       "      <td>1</td>\n",
       "      <td>0</td>\n",
       "      <td>PC 17599</td>\n",
       "      <td>3</td>\n",
       "      <td>C85</td>\n",
       "      <td>1</td>\n",
       "      <td>2</td>\n",
       "      <td>0</td>\n",
       "      <td>(31.0, 512.329]</td>\n",
       "      <td>(32.0, 48.0]</td>\n",
       "      <td>3</td>\n",
       "      <td>7</td>\n",
       "      <td>1</td>\n",
       "    </tr>\n",
       "    <tr>\n",
       "      <th>2</th>\n",
       "      <td>3</td>\n",
       "      <td>1</td>\n",
       "      <td>3</td>\n",
       "      <td>Heikkinen, Miss. Laina</td>\n",
       "      <td>0</td>\n",
       "      <td>1</td>\n",
       "      <td>0</td>\n",
       "      <td>0</td>\n",
       "      <td>STON/O2. 3101282</td>\n",
       "      <td>1</td>\n",
       "      <td>NaN</td>\n",
       "      <td>0</td>\n",
       "      <td>1</td>\n",
       "      <td>1</td>\n",
       "      <td>(7.91, 14.454]</td>\n",
       "      <td>(16.0, 32.0]</td>\n",
       "      <td>2</td>\n",
       "      <td>3</td>\n",
       "      <td>0</td>\n",
       "    </tr>\n",
       "    <tr>\n",
       "      <th>3</th>\n",
       "      <td>4</td>\n",
       "      <td>1</td>\n",
       "      <td>1</td>\n",
       "      <td>Futrelle, Mrs. Jacques Heath (Lily May Peel)</td>\n",
       "      <td>0</td>\n",
       "      <td>2</td>\n",
       "      <td>1</td>\n",
       "      <td>0</td>\n",
       "      <td>113803</td>\n",
       "      <td>3</td>\n",
       "      <td>C123</td>\n",
       "      <td>0</td>\n",
       "      <td>2</td>\n",
       "      <td>0</td>\n",
       "      <td>(31.0, 512.329]</td>\n",
       "      <td>(32.0, 48.0]</td>\n",
       "      <td>3</td>\n",
       "      <td>7</td>\n",
       "      <td>1</td>\n",
       "    </tr>\n",
       "    <tr>\n",
       "      <th>4</th>\n",
       "      <td>5</td>\n",
       "      <td>0</td>\n",
       "      <td>3</td>\n",
       "      <td>Allen, Mr. William Henry</td>\n",
       "      <td>1</td>\n",
       "      <td>2</td>\n",
       "      <td>0</td>\n",
       "      <td>0</td>\n",
       "      <td>373450</td>\n",
       "      <td>1</td>\n",
       "      <td>NaN</td>\n",
       "      <td>0</td>\n",
       "      <td>1</td>\n",
       "      <td>1</td>\n",
       "      <td>(7.91, 14.454]</td>\n",
       "      <td>(32.0, 48.0]</td>\n",
       "      <td>1</td>\n",
       "      <td>4</td>\n",
       "      <td>0</td>\n",
       "    </tr>\n",
       "  </tbody>\n",
       "</table>\n",
       "</div>"
      ],
      "text/plain": [
       "   PassengerId  Survived  Pclass  \\\n",
       "0            1         0       3   \n",
       "1            2         1       1   \n",
       "2            3         1       3   \n",
       "3            4         1       1   \n",
       "4            5         0       3   \n",
       "\n",
       "                                                Name  Sex  Age  SibSp  Parch  \\\n",
       "0                            Braund, Mr. Owen Harris    1    1      1      0   \n",
       "1  Cumings, Mrs. John Bradley (Florence Briggs Th...    0    2      1      0   \n",
       "2                             Heikkinen, Miss. Laina    0    1      0      0   \n",
       "3       Futrelle, Mrs. Jacques Heath (Lily May Peel)    0    2      1      0   \n",
       "4                           Allen, Mr. William Henry    1    2      0      0   \n",
       "\n",
       "             Ticket  Fare Cabin  Embarked  family_size  IsAlone  \\\n",
       "0         A/5 21171     0   NaN         0            2        0   \n",
       "1          PC 17599     3   C85         1            2        0   \n",
       "2  STON/O2. 3101282     1   NaN         0            1        1   \n",
       "3            113803     3  C123         0            2        0   \n",
       "4            373450     1   NaN         0            1        1   \n",
       "\n",
       "           Farebin        Agebin  Title  Words_Count  Has_Cabin  \n",
       "0   (-0.001, 7.91]  (16.0, 32.0]      1            4          0  \n",
       "1  (31.0, 512.329]  (32.0, 48.0]      3            7          1  \n",
       "2   (7.91, 14.454]  (16.0, 32.0]      2            3          0  \n",
       "3  (31.0, 512.329]  (32.0, 48.0]      3            7          1  \n",
       "4   (7.91, 14.454]  (32.0, 48.0]      1            4          0  "
      ]
     },
     "execution_count": 20,
     "metadata": {},
     "output_type": "execute_result"
    }
   ],
   "source": [
    "df_train.head()"
   ]
  },
  {
   "cell_type": "code",
   "execution_count": 21,
   "id": "94d6f7f8",
   "metadata": {
    "execution": {
     "iopub.execute_input": "2025-01-04T12:53:52.646805Z",
     "iopub.status.busy": "2025-01-04T12:53:52.646460Z",
     "iopub.status.idle": "2025-01-04T12:53:52.654949Z",
     "shell.execute_reply": "2025-01-04T12:53:52.654068Z"
    },
    "papermill": {
     "duration": 0.02472,
     "end_time": "2025-01-04T12:53:52.657057",
     "exception": false,
     "start_time": "2025-01-04T12:53:52.632337",
     "status": "completed"
    },
    "tags": []
   },
   "outputs": [],
   "source": [
    "# Feature selection\n",
    "drop_elements = ['PassengerId','Cabin','Ticket', 'SibSp', 'Parch','Name']\n",
    "df_train = df_train.drop(drop_elements, axis = 1)\n",
    "df_train = df_train.drop(['Agebin', 'Farebin'], axis = 1)\n",
    "df_test  = df_test.drop(drop_elements, axis = 1)\n",
    "df_test = df_test.drop(['Agebin', 'Farebin'], axis = 1)"
   ]
  },
  {
   "cell_type": "code",
   "execution_count": 22,
   "id": "addf892e",
   "metadata": {
    "execution": {
     "iopub.execute_input": "2025-01-04T12:53:52.684414Z",
     "iopub.status.busy": "2025-01-04T12:53:52.684069Z",
     "iopub.status.idle": "2025-01-04T12:53:52.694914Z",
     "shell.execute_reply": "2025-01-04T12:53:52.694059Z"
    },
    "papermill": {
     "duration": 0.026778,
     "end_time": "2025-01-04T12:53:52.696611",
     "exception": false,
     "start_time": "2025-01-04T12:53:52.669833",
     "status": "completed"
    },
    "tags": []
   },
   "outputs": [
    {
     "data": {
      "text/html": [
       "<div>\n",
       "<style scoped>\n",
       "    .dataframe tbody tr th:only-of-type {\n",
       "        vertical-align: middle;\n",
       "    }\n",
       "\n",
       "    .dataframe tbody tr th {\n",
       "        vertical-align: top;\n",
       "    }\n",
       "\n",
       "    .dataframe thead th {\n",
       "        text-align: right;\n",
       "    }\n",
       "</style>\n",
       "<table border=\"1\" class=\"dataframe\">\n",
       "  <thead>\n",
       "    <tr style=\"text-align: right;\">\n",
       "      <th></th>\n",
       "      <th>Survived</th>\n",
       "      <th>Pclass</th>\n",
       "      <th>Sex</th>\n",
       "      <th>Age</th>\n",
       "      <th>Fare</th>\n",
       "      <th>Embarked</th>\n",
       "      <th>family_size</th>\n",
       "      <th>IsAlone</th>\n",
       "      <th>Title</th>\n",
       "      <th>Words_Count</th>\n",
       "      <th>Has_Cabin</th>\n",
       "    </tr>\n",
       "  </thead>\n",
       "  <tbody>\n",
       "    <tr>\n",
       "      <th>0</th>\n",
       "      <td>0</td>\n",
       "      <td>3</td>\n",
       "      <td>1</td>\n",
       "      <td>1</td>\n",
       "      <td>0</td>\n",
       "      <td>0</td>\n",
       "      <td>2</td>\n",
       "      <td>0</td>\n",
       "      <td>1</td>\n",
       "      <td>4</td>\n",
       "      <td>0</td>\n",
       "    </tr>\n",
       "    <tr>\n",
       "      <th>1</th>\n",
       "      <td>1</td>\n",
       "      <td>1</td>\n",
       "      <td>0</td>\n",
       "      <td>2</td>\n",
       "      <td>3</td>\n",
       "      <td>1</td>\n",
       "      <td>2</td>\n",
       "      <td>0</td>\n",
       "      <td>3</td>\n",
       "      <td>7</td>\n",
       "      <td>1</td>\n",
       "    </tr>\n",
       "    <tr>\n",
       "      <th>2</th>\n",
       "      <td>1</td>\n",
       "      <td>3</td>\n",
       "      <td>0</td>\n",
       "      <td>1</td>\n",
       "      <td>1</td>\n",
       "      <td>0</td>\n",
       "      <td>1</td>\n",
       "      <td>1</td>\n",
       "      <td>2</td>\n",
       "      <td>3</td>\n",
       "      <td>0</td>\n",
       "    </tr>\n",
       "    <tr>\n",
       "      <th>3</th>\n",
       "      <td>1</td>\n",
       "      <td>1</td>\n",
       "      <td>0</td>\n",
       "      <td>2</td>\n",
       "      <td>3</td>\n",
       "      <td>0</td>\n",
       "      <td>2</td>\n",
       "      <td>0</td>\n",
       "      <td>3</td>\n",
       "      <td>7</td>\n",
       "      <td>1</td>\n",
       "    </tr>\n",
       "    <tr>\n",
       "      <th>4</th>\n",
       "      <td>0</td>\n",
       "      <td>3</td>\n",
       "      <td>1</td>\n",
       "      <td>2</td>\n",
       "      <td>1</td>\n",
       "      <td>0</td>\n",
       "      <td>1</td>\n",
       "      <td>1</td>\n",
       "      <td>1</td>\n",
       "      <td>4</td>\n",
       "      <td>0</td>\n",
       "    </tr>\n",
       "  </tbody>\n",
       "</table>\n",
       "</div>"
      ],
      "text/plain": [
       "   Survived  Pclass  Sex  Age  Fare  Embarked  family_size  IsAlone  Title  \\\n",
       "0         0       3    1    1     0         0            2        0      1   \n",
       "1         1       1    0    2     3         1            2        0      3   \n",
       "2         1       3    0    1     1         0            1        1      2   \n",
       "3         1       1    0    2     3         0            2        0      3   \n",
       "4         0       3    1    2     1         0            1        1      1   \n",
       "\n",
       "   Words_Count  Has_Cabin  \n",
       "0            4          0  \n",
       "1            7          1  \n",
       "2            3          0  \n",
       "3            7          1  \n",
       "4            4          0  "
      ]
     },
     "execution_count": 22,
     "metadata": {},
     "output_type": "execute_result"
    }
   ],
   "source": [
    "df_train.head()"
   ]
  },
  {
   "cell_type": "code",
   "execution_count": 23,
   "id": "7e662822",
   "metadata": {
    "execution": {
     "iopub.execute_input": "2025-01-04T12:53:52.724421Z",
     "iopub.status.busy": "2025-01-04T12:53:52.724070Z",
     "iopub.status.idle": "2025-01-04T12:53:52.735855Z",
     "shell.execute_reply": "2025-01-04T12:53:52.734776Z"
    },
    "papermill": {
     "duration": 0.027843,
     "end_time": "2025-01-04T12:53:52.737517",
     "exception": false,
     "start_time": "2025-01-04T12:53:52.709674",
     "status": "completed"
    },
    "tags": []
   },
   "outputs": [
    {
     "data": {
      "text/html": [
       "<div>\n",
       "<style scoped>\n",
       "    .dataframe tbody tr th:only-of-type {\n",
       "        vertical-align: middle;\n",
       "    }\n",
       "\n",
       "    .dataframe tbody tr th {\n",
       "        vertical-align: top;\n",
       "    }\n",
       "\n",
       "    .dataframe thead th {\n",
       "        text-align: right;\n",
       "    }\n",
       "</style>\n",
       "<table border=\"1\" class=\"dataframe\">\n",
       "  <thead>\n",
       "    <tr style=\"text-align: right;\">\n",
       "      <th></th>\n",
       "      <th>Pclass</th>\n",
       "      <th>Sex</th>\n",
       "      <th>Age</th>\n",
       "      <th>Fare</th>\n",
       "      <th>Embarked</th>\n",
       "      <th>family_size</th>\n",
       "      <th>IsAlone</th>\n",
       "      <th>Title</th>\n",
       "      <th>Words_Count</th>\n",
       "      <th>Has_Cabin</th>\n",
       "    </tr>\n",
       "  </thead>\n",
       "  <tbody>\n",
       "    <tr>\n",
       "      <th>0</th>\n",
       "      <td>3</td>\n",
       "      <td>1</td>\n",
       "      <td>2</td>\n",
       "      <td>0</td>\n",
       "      <td>2</td>\n",
       "      <td>1</td>\n",
       "      <td>1</td>\n",
       "      <td>1.0</td>\n",
       "      <td>3</td>\n",
       "      <td>0</td>\n",
       "    </tr>\n",
       "    <tr>\n",
       "      <th>1</th>\n",
       "      <td>3</td>\n",
       "      <td>0</td>\n",
       "      <td>2</td>\n",
       "      <td>0</td>\n",
       "      <td>0</td>\n",
       "      <td>2</td>\n",
       "      <td>0</td>\n",
       "      <td>3.0</td>\n",
       "      <td>5</td>\n",
       "      <td>0</td>\n",
       "    </tr>\n",
       "    <tr>\n",
       "      <th>2</th>\n",
       "      <td>2</td>\n",
       "      <td>1</td>\n",
       "      <td>3</td>\n",
       "      <td>1</td>\n",
       "      <td>2</td>\n",
       "      <td>1</td>\n",
       "      <td>1</td>\n",
       "      <td>1.0</td>\n",
       "      <td>4</td>\n",
       "      <td>0</td>\n",
       "    </tr>\n",
       "    <tr>\n",
       "      <th>3</th>\n",
       "      <td>3</td>\n",
       "      <td>1</td>\n",
       "      <td>1</td>\n",
       "      <td>1</td>\n",
       "      <td>0</td>\n",
       "      <td>1</td>\n",
       "      <td>1</td>\n",
       "      <td>1.0</td>\n",
       "      <td>3</td>\n",
       "      <td>0</td>\n",
       "    </tr>\n",
       "    <tr>\n",
       "      <th>4</th>\n",
       "      <td>3</td>\n",
       "      <td>0</td>\n",
       "      <td>1</td>\n",
       "      <td>1</td>\n",
       "      <td>0</td>\n",
       "      <td>3</td>\n",
       "      <td>0</td>\n",
       "      <td>3.0</td>\n",
       "      <td>6</td>\n",
       "      <td>0</td>\n",
       "    </tr>\n",
       "  </tbody>\n",
       "</table>\n",
       "</div>"
      ],
      "text/plain": [
       "   Pclass  Sex  Age  Fare  Embarked  family_size  IsAlone  Title  Words_Count  \\\n",
       "0       3    1    2     0         2            1        1    1.0            3   \n",
       "1       3    0    2     0         0            2        0    3.0            5   \n",
       "2       2    1    3     1         2            1        1    1.0            4   \n",
       "3       3    1    1     1         0            1        1    1.0            3   \n",
       "4       3    0    1     1         0            3        0    3.0            6   \n",
       "\n",
       "   Has_Cabin  \n",
       "0          0  \n",
       "1          0  \n",
       "2          0  \n",
       "3          0  \n",
       "4          0  "
      ]
     },
     "execution_count": 23,
     "metadata": {},
     "output_type": "execute_result"
    }
   ],
   "source": [
    "df_test.head()"
   ]
  },
  {
   "cell_type": "code",
   "execution_count": 24,
   "id": "c3e500b5",
   "metadata": {
    "execution": {
     "iopub.execute_input": "2025-01-04T12:53:52.764840Z",
     "iopub.status.busy": "2025-01-04T12:53:52.764507Z",
     "iopub.status.idle": "2025-01-04T12:53:52.780132Z",
     "shell.execute_reply": "2025-01-04T12:53:52.778785Z"
    },
    "papermill": {
     "duration": 0.031073,
     "end_time": "2025-01-04T12:53:52.781816",
     "exception": false,
     "start_time": "2025-01-04T12:53:52.750743",
     "status": "completed"
    },
    "tags": []
   },
   "outputs": [
    {
     "name": "stdout",
     "output_type": "stream",
     "text": [
      "<class 'pandas.core.frame.DataFrame'>\n",
      "RangeIndex: 891 entries, 0 to 890\n",
      "Data columns (total 11 columns):\n",
      " #   Column       Non-Null Count  Dtype\n",
      "---  ------       --------------  -----\n",
      " 0   Survived     891 non-null    int64\n",
      " 1   Pclass       891 non-null    int64\n",
      " 2   Sex          891 non-null    int64\n",
      " 3   Age          891 non-null    int64\n",
      " 4   Fare         891 non-null    int64\n",
      " 5   Embarked     891 non-null    int64\n",
      " 6   family_size  891 non-null    int64\n",
      " 7   IsAlone      891 non-null    int64\n",
      " 8   Title        891 non-null    int64\n",
      " 9   Words_Count  891 non-null    int64\n",
      " 10  Has_Cabin    891 non-null    int64\n",
      "dtypes: int64(11)\n",
      "memory usage: 76.7 KB\n",
      "None\n",
      "<class 'pandas.core.frame.DataFrame'>\n",
      "RangeIndex: 418 entries, 0 to 417\n",
      "Data columns (total 10 columns):\n",
      " #   Column       Non-Null Count  Dtype  \n",
      "---  ------       --------------  -----  \n",
      " 0   Pclass       418 non-null    int64  \n",
      " 1   Sex          418 non-null    int64  \n",
      " 2   Age          418 non-null    int64  \n",
      " 3   Fare         418 non-null    int64  \n",
      " 4   Embarked     418 non-null    int64  \n",
      " 5   family_size  418 non-null    int64  \n",
      " 6   IsAlone      418 non-null    int64  \n",
      " 7   Title        418 non-null    float64\n",
      " 8   Words_Count  418 non-null    int64  \n",
      " 9   Has_Cabin    418 non-null    int64  \n",
      "dtypes: float64(1), int64(9)\n",
      "memory usage: 32.8 KB\n",
      "None\n"
     ]
    }
   ],
   "source": [
    "print(df_train.info())\n",
    "print(df_test.info())"
   ]
  },
  {
   "cell_type": "markdown",
   "id": "d64e4b5e",
   "metadata": {
    "papermill": {
     "duration": 0.013129,
     "end_time": "2025-01-04T12:53:52.808264",
     "exception": false,
     "start_time": "2025-01-04T12:53:52.795135",
     "status": "completed"
    },
    "tags": []
   },
   "source": [
    "### EDA"
   ]
  },
  {
   "cell_type": "code",
   "execution_count": 25,
   "id": "42294199",
   "metadata": {
    "execution": {
     "iopub.execute_input": "2025-01-04T12:53:52.835551Z",
     "iopub.status.busy": "2025-01-04T12:53:52.835146Z",
     "iopub.status.idle": "2025-01-04T12:53:52.841303Z",
     "shell.execute_reply": "2025-01-04T12:53:52.840252Z"
    },
    "papermill": {
     "duration": 0.021693,
     "end_time": "2025-01-04T12:53:52.842933",
     "exception": false,
     "start_time": "2025-01-04T12:53:52.821240",
     "status": "completed"
    },
    "tags": []
   },
   "outputs": [
    {
     "data": {
      "text/plain": [
       "Index(['Survived', 'Pclass', 'Sex', 'Age', 'Fare', 'Embarked', 'family_size',\n",
       "       'IsAlone', 'Title', 'Words_Count', 'Has_Cabin'],\n",
       "      dtype='object')"
      ]
     },
     "execution_count": 25,
     "metadata": {},
     "output_type": "execute_result"
    }
   ],
   "source": [
    "cols = df_train.columns\n",
    "cols"
   ]
  },
  {
   "cell_type": "code",
   "execution_count": 26,
   "id": "0a951b5f",
   "metadata": {
    "execution": {
     "iopub.execute_input": "2025-01-04T12:53:52.870775Z",
     "iopub.status.busy": "2025-01-04T12:53:52.870353Z",
     "iopub.status.idle": "2025-01-04T12:53:52.889100Z",
     "shell.execute_reply": "2025-01-04T12:53:52.887867Z"
    },
    "papermill": {
     "duration": 0.034626,
     "end_time": "2025-01-04T12:53:52.890862",
     "exception": false,
     "start_time": "2025-01-04T12:53:52.856236",
     "status": "completed"
    },
    "tags": []
   },
   "outputs": [
    {
     "name": "stdout",
     "output_type": "stream",
     "text": [
      "Survived\n",
      "0    549\n",
      "1    342\n",
      "Name: count, dtype: int64\n",
      "**************************************************\n",
      "Pclass\n",
      "3    491\n",
      "1    216\n",
      "2    184\n",
      "Name: count, dtype: int64\n",
      "**************************************************\n",
      "Sex\n",
      "1    577\n",
      "0    314\n",
      "Name: count, dtype: int64\n",
      "**************************************************\n",
      "Age\n",
      "1    523\n",
      "2    188\n",
      "0    100\n",
      "3     69\n",
      "4     11\n",
      "Name: count, dtype: int64\n",
      "**************************************************\n",
      "Fare\n",
      "2    229\n",
      "0    223\n",
      "3    222\n",
      "1    217\n",
      "Name: count, dtype: int64\n",
      "**************************************************\n",
      "Embarked\n",
      "0    646\n",
      "1    168\n",
      "2     77\n",
      "Name: count, dtype: int64\n",
      "**************************************************\n",
      "family_size\n",
      "1     537\n",
      "2     161\n",
      "3     102\n",
      "4      29\n",
      "6      22\n",
      "5      15\n",
      "7      12\n",
      "11      7\n",
      "8       6\n",
      "Name: count, dtype: int64\n",
      "**************************************************\n",
      "IsAlone\n",
      "1    537\n",
      "0    354\n",
      "Name: count, dtype: int64\n",
      "**************************************************\n",
      "Title\n",
      "1    517\n",
      "2    185\n",
      "3    126\n",
      "4     40\n",
      "5     23\n",
      "Name: count, dtype: int64\n",
      "**************************************************\n",
      "Words_Count\n",
      "4     389\n",
      "3     305\n",
      "5      96\n",
      "6      52\n",
      "7      38\n",
      "8       9\n",
      "14      1\n",
      "9       1\n",
      "Name: count, dtype: int64\n",
      "**************************************************\n",
      "Has_Cabin\n",
      "0    687\n",
      "1    204\n",
      "Name: count, dtype: int64\n",
      "**************************************************\n"
     ]
    }
   ],
   "source": [
    "for col in cols:\n",
    "    print(df_train[col].value_counts())\n",
    "    print('*'*50)"
   ]
  },
  {
   "cell_type": "code",
   "execution_count": 27,
   "id": "62121306",
   "metadata": {
    "execution": {
     "iopub.execute_input": "2025-01-04T12:53:52.918729Z",
     "iopub.status.busy": "2025-01-04T12:53:52.918340Z",
     "iopub.status.idle": "2025-01-04T12:53:53.398186Z",
     "shell.execute_reply": "2025-01-04T12:53:53.397106Z"
    },
    "papermill": {
     "duration": 0.49585,
     "end_time": "2025-01-04T12:53:53.400115",
     "exception": false,
     "start_time": "2025-01-04T12:53:52.904265",
     "status": "completed"
    },
    "tags": []
   },
   "outputs": [
    {
     "data": {
      "image/png": "[encoded data removed]",
      "text/plain": [
       "<Figure size 2000x1000 with 3 Axes>"
      ]
     },
     "metadata": {},
     "output_type": "display_data"
    }
   ],
   "source": [
    "# check if the dataset has the outliers or not \n",
    "\n",
    "plt.figure(figsize=(20,10))\n",
    "plt.suptitle('boxplot for numerical features',size=20)\n",
    "for i,col in enumerate(['Age','Fare','family_size']):\n",
    "    plt.subplot(3,3,i+1)\n",
    "    sns.boxplot(df_test[col])\n",
    "    plt.xlabel(col)"
   ]
  },
  {
   "cell_type": "code",
   "execution_count": 28,
   "id": "0cf1c2ea",
   "metadata": {
    "execution": {
     "iopub.execute_input": "2025-01-04T12:53:53.430897Z",
     "iopub.status.busy": "2025-01-04T12:53:53.430556Z",
     "iopub.status.idle": "2025-01-04T12:53:53.734846Z",
     "shell.execute_reply": "2025-01-04T12:53:53.733727Z"
    },
    "papermill": {
     "duration": 0.322388,
     "end_time": "2025-01-04T12:53:53.736685",
     "exception": false,
     "start_time": "2025-01-04T12:53:53.414297",
     "status": "completed"
    },
    "tags": []
   },
   "outputs": [
    {
     "data": {
      "text/plain": [
       "<Figure size 1000x600 with 0 Axes>"
      ]
     },
     "metadata": {},
     "output_type": "display_data"
    },
    {
     "data": {
      "image/png": "[encoded data removed]",
      "text/plain": [
       "<Figure size 1000x600 with 1 Axes>"
      ]
     },
     "metadata": {},
     "output_type": "display_data"
    }
   ],
   "source": [
    "# Grouping data by 'Sex' and 'Survived' to get the counts of survivors and non-survivors\n",
    "grouped_data = df_train.groupby(['Sex', 'Survived']).size().unstack()\n",
    "\n",
    "# Plotting the stacked bar chart\n",
    "plt.figure(figsize=(10,6))\n",
    "grouped_data.plot(kind='bar', stacked=True, color=['red', 'green'], figsize=(10,6))\n",
    "\n",
    "# Adding labels and title\n",
    "plt.title('Survival Count by Sex')\n",
    "plt.xlabel('Sex')\n",
    "plt.ylabel('Count')\n",
    "plt.xticks(rotation=0)\n",
    "plt.legend(['Died', 'Survived'])\n",
    "\n",
    "# Displaying the plot\n",
    "plt.show()\n"
   ]
  },
  {
   "cell_type": "markdown",
   "id": "ed2c62ff",
   "metadata": {
    "papermill": {
     "duration": 0.014353,
     "end_time": "2025-01-04T12:53:53.765721",
     "exception": false,
     "start_time": "2025-01-04T12:53:53.751368",
     "status": "completed"
    },
    "tags": []
   },
   "source": [
    "__Observation__\n",
    "- number of survived from female > numer of survived from male"
   ]
  },
  {
   "cell_type": "code",
   "execution_count": 29,
   "id": "22c1fc90",
   "metadata": {
    "execution": {
     "iopub.execute_input": "2025-01-04T12:53:53.796287Z",
     "iopub.status.busy": "2025-01-04T12:53:53.795889Z",
     "iopub.status.idle": "2025-01-04T12:53:54.484321Z",
     "shell.execute_reply": "2025-01-04T12:53:54.483185Z"
    },
    "papermill": {
     "duration": 0.706822,
     "end_time": "2025-01-04T12:53:54.487151",
     "exception": false,
     "start_time": "2025-01-04T12:53:53.780329",
     "status": "completed"
    },
    "tags": []
   },
   "outputs": [
    {
     "data": {
      "text/plain": [
       "<Axes: >"
      ]
     },
     "execution_count": 29,
     "metadata": {},
     "output_type": "execute_result"
    },
    {
     "data": {
      "image/png": "[encoded data removed]",
      "text/plain": [
       "<Figure size 640x480 with 2 Axes>"
      ]
     },
     "metadata": {},
     "output_type": "display_data"
    }
   ],
   "source": [
    "num_cols =df_train.select_dtypes(include=['int64','float64']).columns\n",
    "sns.heatmap(df_train[num_cols].corr(),annot=True)"
   ]
  },
  {
   "cell_type": "code",
   "execution_count": 30,
   "id": "a405d8f5",
   "metadata": {
    "execution": {
     "iopub.execute_input": "2025-01-04T12:53:54.526934Z",
     "iopub.status.busy": "2025-01-04T12:53:54.526572Z",
     "iopub.status.idle": "2025-01-04T12:53:54.799808Z",
     "shell.execute_reply": "2025-01-04T12:53:54.798766Z"
    },
    "papermill": {
     "duration": 0.293142,
     "end_time": "2025-01-04T12:53:54.801714",
     "exception": false,
     "start_time": "2025-01-04T12:53:54.508572",
     "status": "completed"
    },
    "tags": []
   },
   "outputs": [
    {
     "data": {
      "image/png": "[encoded data removed]",
      "text/plain": [
       "<Figure size 500x500 with 1 Axes>"
      ]
     },
     "metadata": {},
     "output_type": "display_data"
    }
   ],
   "source": [
    "plt.figure(figsize=(5,5))\n",
    "plt.suptitle('count of each category')\n",
    "sns.barplot(x=df_train['Survived'],y=df_train['Survived'].value_counts(),data=df,palette=\"Set2\")\n",
    "plt.xlabel('Survived')\n",
    "plt.ylabel('Count')\n",
    "plt.show()"
   ]
  },
  {
   "cell_type": "markdown",
   "id": "a33e65d7",
   "metadata": {
    "papermill": {
     "duration": 0.016892,
     "end_time": "2025-01-04T12:53:54.836541",
     "exception": false,
     "start_time": "2025-01-04T12:53:54.819649",
     "status": "completed"
    },
    "tags": []
   },
   "source": [
    "__Observation__\n",
    "\n",
    "```the dataset is Imbalanced```\n",
    "- 549 for class 0  -- not survived\n",
    "- 332 for class 1  -- survived"
   ]
  },
  {
   "cell_type": "code",
   "execution_count": 31,
   "id": "049522a2",
   "metadata": {
    "execution": {
     "iopub.execute_input": "2025-01-04T12:53:54.871929Z",
     "iopub.status.busy": "2025-01-04T12:53:54.871495Z",
     "iopub.status.idle": "2025-01-04T12:53:54.881227Z",
     "shell.execute_reply": "2025-01-04T12:53:54.880008Z"
    },
    "papermill": {
     "duration": 0.030397,
     "end_time": "2025-01-04T12:53:54.883878",
     "exception": false,
     "start_time": "2025-01-04T12:53:54.853481",
     "status": "completed"
    },
    "tags": []
   },
   "outputs": [
    {
     "data": {
      "text/plain": [
       "393"
      ]
     },
     "execution_count": 31,
     "metadata": {},
     "output_type": "execute_result"
    }
   ],
   "source": [
    "df_train.duplicated().sum()"
   ]
  },
  {
   "cell_type": "code",
   "execution_count": 32,
   "id": "d55ce4be",
   "metadata": {
    "execution": {
     "iopub.execute_input": "2025-01-04T12:53:54.938050Z",
     "iopub.status.busy": "2025-01-04T12:53:54.937623Z",
     "iopub.status.idle": "2025-01-04T12:53:54.943734Z",
     "shell.execute_reply": "2025-01-04T12:53:54.942679Z"
    },
    "papermill": {
     "duration": 0.037086,
     "end_time": "2025-01-04T12:53:54.945659",
     "exception": false,
     "start_time": "2025-01-04T12:53:54.908573",
     "status": "completed"
    },
    "tags": []
   },
   "outputs": [
    {
     "data": {
      "text/plain": [
       "((891, 11), (418, 10))"
      ]
     },
     "execution_count": 32,
     "metadata": {},
     "output_type": "execute_result"
    }
   ],
   "source": [
    "df_train.shape,df_test.shape"
   ]
  },
  {
   "cell_type": "markdown",
   "id": "c320e2de",
   "metadata": {
    "papermill": {
     "duration": 0.017212,
     "end_time": "2025-01-04T12:53:54.991642",
     "exception": false,
     "start_time": "2025-01-04T12:53:54.974430",
     "status": "completed"
    },
    "tags": []
   },
   "source": [
    "### Split Dataset "
   ]
  },
  {
   "cell_type": "code",
   "execution_count": 33,
   "id": "4c9b92cb",
   "metadata": {
    "execution": {
     "iopub.execute_input": "2025-01-04T12:53:55.032018Z",
     "iopub.status.busy": "2025-01-04T12:53:55.031546Z",
     "iopub.status.idle": "2025-01-04T12:53:55.047373Z",
     "shell.execute_reply": "2025-01-04T12:53:55.046270Z"
    },
    "papermill": {
     "duration": 0.039258,
     "end_time": "2025-01-04T12:53:55.049462",
     "exception": false,
     "start_time": "2025-01-04T12:53:55.010204",
     "status": "completed"
    },
    "tags": []
   },
   "outputs": [
    {
     "data": {
      "text/plain": [
       "((623, 10), (134, 10), (134, 10), (623,), (134,), (134,))"
      ]
     },
     "execution_count": 33,
     "metadata": {},
     "output_type": "execute_result"
    }
   ],
   "source": [
    "# # split dataset into train and valid\n",
    "X=df_train.drop('Survived',axis=1)\n",
    "y=df_train['Survived']\n",
    "\n",
    "X_train, X_temp, y_train, y_temp = train_test_split(X, y, test_size=0.3, random_state=42)  # 70% train, 30% temp\n",
    "\n",
    "# Split the remaining 30% into validation and test sets (15% each)\n",
    "X_val, X_test, y_val, y_test = train_test_split(X_temp, y_temp, test_size=0.5, random_state=42)\n",
    "\n",
    "X_train.shape,X_val.shape,X_test.shape,y_train.shape,y_val.shape,y_test.shape"
   ]
  },
  {
   "cell_type": "markdown",
   "id": "6e955818",
   "metadata": {
    "papermill": {
     "duration": 0.017703,
     "end_time": "2025-01-04T12:53:55.091639",
     "exception": false,
     "start_time": "2025-01-04T12:53:55.073936",
     "status": "completed"
    },
    "tags": []
   },
   "source": [
    "## Models For Classification"
   ]
  },
  {
   "cell_type": "markdown",
   "id": "54ebf680",
   "metadata": {
    "papermill": {
     "duration": 0.017656,
     "end_time": "2025-01-04T12:53:55.127315",
     "exception": false,
     "start_time": "2025-01-04T12:53:55.109659",
     "status": "completed"
    },
    "tags": []
   },
   "source": [
    "### LogisticRegression"
   ]
  },
  {
   "cell_type": "code",
   "execution_count": 34,
   "id": "98424bf2",
   "metadata": {
    "execution": {
     "iopub.execute_input": "2025-01-04T12:53:55.165127Z",
     "iopub.status.busy": "2025-01-04T12:53:55.164609Z",
     "iopub.status.idle": "2025-01-04T12:53:55.206922Z",
     "shell.execute_reply": "2025-01-04T12:53:55.205719Z"
    },
    "papermill": {
     "duration": 0.063725,
     "end_time": "2025-01-04T12:53:55.208852",
     "exception": false,
     "start_time": "2025-01-04T12:53:55.145127",
     "status": "completed"
    },
    "tags": []
   },
   "outputs": [
    {
     "data": {
      "text/html": [
       "<style>#sk-container-id-1 {color: black;background-color: white;}#sk-container-id-1 pre{padding: 0;}#sk-container-id-1 div.sk-toggleable {background-color: white;}#sk-container-id-1 label.sk-toggleable__label {cursor: pointer;display: block;width: 100%;margin-bottom: 0;padding: 0.3em;box-sizing: border-box;text-align: center;}#sk-container-id-1 label.sk-toggleable__label-arrow:before {content: \"▸\";float: left;margin-right: 0.25em;color: #696969;}#sk-container-id-1 label.sk-toggleable__label-arrow:hover:before {color: black;}#sk-container-id-1 div.sk-estimator:hover label.sk-toggleable__label-arrow:before {color: black;}#sk-container-id-1 div.sk-toggleable__content {max-height: 0;max-width: 0;overflow: hidden;text-align: left;background-color: #f0f8ff;}#sk-container-id-1 div.sk-toggleable__content pre {margin: 0.2em;color: black;border-radius: 0.25em;background-color: #f0f8ff;}#sk-container-id-1 input.sk-toggleable__control:checked~div.sk-toggleable__content {max-height: 200px;max-width: 100%;overflow: auto;}#sk-container-id-1 input.sk-toggleable__control:checked~label.sk-toggleable__label-arrow:before {content: \"▾\";}#sk-container-id-1 div.sk-estimator input.sk-toggleable__control:checked~label.sk-toggleable__label {background-color: #d4ebff;}#sk-container-id-1 div.sk-label input.sk-toggleable__control:checked~label.sk-toggleable__label {background-color: #d4ebff;}#sk-container-id-1 input.sk-hidden--visually {border: 0;clip: rect(1px 1px 1px 1px);clip: rect(1px, 1px, 1px, 1px);height: 1px;margin: -1px;overflow: hidden;padding: 0;position: absolute;width: 1px;}#sk-container-id-1 div.sk-estimator {font-family: monospace;background-color: #f0f8ff;border: 1px dotted black;border-radius: 0.25em;box-sizing: border-box;margin-bottom: 0.5em;}#sk-container-id-1 div.sk-estimator:hover {background-color: #d4ebff;}#sk-container-id-1 div.sk-parallel-item::after {content: \"\";width: 100%;border-bottom: 1px solid gray;flex-grow: 1;}#sk-container-id-1 div.sk-label:hover label.sk-toggleable__label {background-color: #d4ebff;}#sk-container-id-1 div.sk-serial::before {content: \"\";position: absolute;border-left: 1px solid gray;box-sizing: border-box;top: 0;bottom: 0;left: 50%;z-index: 0;}#sk-container-id-1 div.sk-serial {display: flex;flex-direction: column;align-items: center;background-color: white;padding-right: 0.2em;padding-left: 0.2em;position: relative;}#sk-container-id-1 div.sk-item {position: relative;z-index: 1;}#sk-container-id-1 div.sk-parallel {display: flex;align-items: stretch;justify-content: center;background-color: white;position: relative;}#sk-container-id-1 div.sk-item::before, #sk-container-id-1 div.sk-parallel-item::before {content: \"\";position: absolute;border-left: 1px solid gray;box-sizing: border-box;top: 0;bottom: 0;left: 50%;z-index: -1;}#sk-container-id-1 div.sk-parallel-item {display: flex;flex-direction: column;z-index: 1;position: relative;background-color: white;}#sk-container-id-1 div.sk-parallel-item:first-child::after {align-self: flex-end;width: 50%;}#sk-container-id-1 div.sk-parallel-item:last-child::after {align-self: flex-start;width: 50%;}#sk-container-id-1 div.sk-parallel-item:only-child::after {width: 0;}#sk-container-id-1 div.sk-dashed-wrapped {border: 1px dashed gray;margin: 0 0.4em 0.5em 0.4em;box-sizing: border-box;padding-bottom: 0.4em;background-color: white;}#sk-container-id-1 div.sk-label label {font-family: monospace;font-weight: bold;display: inline-block;line-height: 1.2em;}#sk-container-id-1 div.sk-label-container {text-align: center;}#sk-container-id-1 div.sk-container {/* jupyter's `normalize.less` sets `[hidden] { display: none; }` but bootstrap.min.css set `[hidden] { display: none !important; }` so we also need the `!important` here to be able to override the default hidden behavior on the sphinx rendered scikit-learn.org. See: https://github.com/scikit-learn/scikit-learn/issues/21755 */display: inline-block !important;position: relative;}#sk-container-id-1 div.sk-text-repr-fallback {display: none;}</style><div id=\"sk-container-id-1\" class=\"sk-top-container\"><div class=\"sk-text-repr-fallback\"><pre>LogisticRegression(random_state=42)</pre><b>In a Jupyter environment, please rerun this cell to show the HTML representation or trust the notebook. <br />On GitHub, the HTML representation is unable to render, please try loading this page with nbviewer.org.</b></div><div class=\"sk-container\" hidden><div class=\"sk-item\"><div class=\"sk-estimator sk-toggleable\"><input class=\"sk-toggleable__control sk-hidden--visually\" id=\"sk-estimator-id-1\" type=\"checkbox\" checked><label for=\"sk-estimator-id-1\" class=\"sk-toggleable__label sk-toggleable__label-arrow\">LogisticRegression</label><div class=\"sk-toggleable__content\"><pre>LogisticRegression(random_state=42)</pre></div></div></div></div></div>"
      ],
      "text/plain": [
       "LogisticRegression(random_state=42)"
      ]
     },
     "execution_count": 34,
     "metadata": {},
     "output_type": "execute_result"
    }
   ],
   "source": [
    "LR =LogisticRegression( random_state=42)\n",
    "\n",
    "# Train Model\n",
    "LR.fit(X_train,y_train)"
   ]
  },
  {
   "cell_type": "code",
   "execution_count": 35,
   "id": "b0675054",
   "metadata": {
    "execution": {
     "iopub.execute_input": "2025-01-04T12:53:55.247692Z",
     "iopub.status.busy": "2025-01-04T12:53:55.247354Z",
     "iopub.status.idle": "2025-01-04T12:53:55.257552Z",
     "shell.execute_reply": "2025-01-04T12:53:55.256449Z"
    },
    "papermill": {
     "duration": 0.031859,
     "end_time": "2025-01-04T12:53:55.259683",
     "exception": false,
     "start_time": "2025-01-04T12:53:55.227824",
     "status": "completed"
    },
    "tags": []
   },
   "outputs": [],
   "source": [
    "y_pred_train= LR.predict(X_train)\n",
    "y_pred_val =LR.predict(X_val)\n",
    "y_pred_test =LR.predict(X_test)"
   ]
  },
  {
   "cell_type": "code",
   "execution_count": 36,
   "id": "8a713718",
   "metadata": {
    "execution": {
     "iopub.execute_input": "2025-01-04T12:53:55.297875Z",
     "iopub.status.busy": "2025-01-04T12:53:55.297542Z",
     "iopub.status.idle": "2025-01-04T12:53:55.325275Z",
     "shell.execute_reply": "2025-01-04T12:53:55.323866Z"
    },
    "papermill": {
     "duration": 0.04886,
     "end_time": "2025-01-04T12:53:55.327030",
     "exception": false,
     "start_time": "2025-01-04T12:53:55.278170",
     "status": "completed"
    },
    "tags": []
   },
   "outputs": [
    {
     "name": "stdout",
     "output_type": "stream",
     "text": [
      "classification report on train      :\n",
      "               precision    recall  f1-score   support\n",
      "\n",
      "           0       0.85      0.88      0.86       392\n",
      "           1       0.79      0.73      0.76       231\n",
      "\n",
      "    accuracy                           0.83       623\n",
      "   macro avg       0.82      0.81      0.81       623\n",
      "weighted avg       0.83      0.83      0.83       623\n",
      "\n",
      "==================================================\n",
      "classification report on validation :\n",
      "               precision    recall  f1-score   support\n",
      "\n",
      "           0       0.81      0.87      0.84        70\n",
      "           1       0.85      0.78      0.81        64\n",
      "\n",
      "    accuracy                           0.83       134\n",
      "   macro avg       0.83      0.83      0.83       134\n",
      "weighted avg       0.83      0.83      0.83       134\n",
      "\n",
      "==================================================\n",
      "classification report on validation :\n",
      "               precision    recall  f1-score   support\n",
      "\n",
      "           0       0.85      0.83      0.84        87\n",
      "           1       0.69      0.72      0.71        47\n",
      "\n",
      "    accuracy                           0.79       134\n",
      "   macro avg       0.77      0.78      0.77       134\n",
      "weighted avg       0.79      0.79      0.79       134\n",
      "\n"
     ]
    }
   ],
   "source": [
    "print(f'classification report on train      :\\n {classification_report(y_train,y_pred_train)}')\n",
    "print('=' * 50)\n",
    "print(f'classification report on validation :\\n {classification_report(y_val,y_pred_val)}')\n",
    "print('=' * 50)\n",
    "print(f'classification report on validation :\\n {classification_report(y_test,y_pred_test)}')"
   ]
  },
  {
   "cell_type": "markdown",
   "id": "7461b9bc",
   "metadata": {
    "papermill": {
     "duration": 0.02522,
     "end_time": "2025-01-04T12:53:55.370544",
     "exception": false,
     "start_time": "2025-01-04T12:53:55.345324",
     "status": "completed"
    },
    "tags": []
   },
   "source": [
    "__Observation__  :\n",
    "\n",
    "- Train accuracy = 83%\n",
    "- validation accuracy = 83 %\n",
    "- Test accuracy = 79 %"
   ]
  },
  {
   "cell_type": "markdown",
   "id": "a20b8759",
   "metadata": {
    "papermill": {
     "duration": 0.017874,
     "end_time": "2025-01-04T12:53:55.412172",
     "exception": false,
     "start_time": "2025-01-04T12:53:55.394298",
     "status": "completed"
    },
    "tags": []
   },
   "source": [
    "### DecisionTreeClassifier"
   ]
  },
  {
   "cell_type": "code",
   "execution_count": 37,
   "id": "d90728b4",
   "metadata": {
    "execution": {
     "iopub.execute_input": "2025-01-04T12:53:55.449686Z",
     "iopub.status.busy": "2025-01-04T12:53:55.449218Z",
     "iopub.status.idle": "2025-01-04T12:54:04.043809Z",
     "shell.execute_reply": "2025-01-04T12:54:04.042283Z"
    },
    "papermill": {
     "duration": 8.615492,
     "end_time": "2025-01-04T12:54:04.045689",
     "exception": false,
     "start_time": "2025-01-04T12:53:55.430197",
     "status": "completed"
    },
    "tags": []
   },
   "outputs": [
    {
     "name": "stdout",
     "output_type": "stream",
     "text": [
      "Fitting 5 folds for each of 486 candidates, totalling 2430 fits\n",
      "Best Parameters: {'ccp_alpha': 0.01, 'criterion': 'entropy', 'max_depth': 5, 'max_features': None, 'min_samples_leaf': 5, 'min_samples_split': 10}\n",
      "Classification Report on Training Data:\n",
      "              precision    recall  f1-score   support\n",
      "\n",
      "           0       0.85      0.90      0.87       392\n",
      "           1       0.80      0.72      0.76       231\n",
      "\n",
      "    accuracy                           0.83       623\n",
      "   macro avg       0.82      0.81      0.82       623\n",
      "weighted avg       0.83      0.83      0.83       623\n",
      "\n",
      "Classification Report on Validation Data:\n",
      "              precision    recall  f1-score   support\n",
      "\n",
      "           0       0.82      0.93      0.87        70\n",
      "           1       0.91      0.78      0.84        64\n",
      "\n",
      "    accuracy                           0.86       134\n",
      "   macro avg       0.87      0.85      0.86       134\n",
      "weighted avg       0.86      0.86      0.86       134\n",
      "\n",
      "Classification Report on Test Data:\n",
      "              precision    recall  f1-score   support\n",
      "\n",
      "           0       0.84      0.87      0.85        87\n",
      "           1       0.74      0.68      0.71        47\n",
      "\n",
      "    accuracy                           0.81       134\n",
      "   macro avg       0.79      0.78      0.78       134\n",
      "weighted avg       0.80      0.81      0.80       134\n",
      "\n"
     ]
    }
   ],
   "source": [
    " # Initialize the Decision Tree model\n",
    "decision_tree = DecisionTreeClassifier(random_state=42)\n",
    "\n",
    "# Define a parameter grid to search over\n",
    "param_grid = {\n",
    "    'criterion': ['gini', 'entropy'],              # Split criteria\n",
    "    'max_depth': [3, 5, 10],                       # Reduced max depth\n",
    "    'min_samples_split': [10, 20, 30],              # Increased min samples to split\n",
    "    'min_samples_leaf': [5, 10, 15],                # Increased min samples in a leaf node\n",
    "    'max_features': ['sqrt', 'log2', None],        # Number of features to consider\n",
    "    'ccp_alpha': [0.01, 0.1, 0.2]                  # Increased pruning parameter\n",
    "}\n",
    "\n",
    "# Set up GridSearchCV with 5-fold cross-validation\n",
    "gridS_dt = GridSearchCV(\n",
    "    estimator=decision_tree,\n",
    "    param_grid=param_grid,\n",
    "    cv=5,\n",
    "    n_jobs=-1,\n",
    "    verbose=2,\n",
    "    scoring='accuracy'\n",
    ")\n",
    "\n",
    "# Fit the model using GridSearchCV\n",
    "gridS_dt.fit(X_train, y_train)\n",
    "\n",
    "# Best parameters\n",
    "print(\"Best Parameters:\", gridS_dt.best_params_)\n",
    "\n",
    "# Make predictions on train and validation sets\n",
    "y_pred_train = gridS_dt.best_estimator_.predict(X_train)\n",
    "y_pred_val = gridS_dt.best_estimator_.predict(X_val)\n",
    "y_pred_test = gridS_dt.best_estimator_.predict(X_test)\n",
    "\n",
    "# Display classification reports\n",
    "print(\"Classification Report on Training Data:\")\n",
    "print(classification_report(y_train, y_pred_train))\n",
    "print(\"Classification Report on Validation Data:\")\n",
    "print(classification_report(y_val, y_pred_val))\n",
    "print(\"Classification Report on Test Data:\")\n",
    "print(classification_report(y_test, y_pred_test))\n"
   ]
  },
  {
   "cell_type": "markdown",
   "id": "e94132f1",
   "metadata": {
    "papermill": {
     "duration": 0.01987,
     "end_time": "2025-01-04T12:54:04.085435",
     "exception": false,
     "start_time": "2025-01-04T12:54:04.065565",
     "status": "completed"
    },
    "tags": []
   },
   "source": [
    "__Observation__  :\n",
    "\n",
    "- Train accuracy = 83%\n",
    "- validation accuracy = 86 %\n",
    "- Test accuracy = 81 %"
   ]
  },
  {
   "cell_type": "markdown",
   "id": "023ad45f",
   "metadata": {
    "papermill": {
     "duration": 0.017905,
     "end_time": "2025-01-04T12:54:04.122418",
     "exception": false,
     "start_time": "2025-01-04T12:54:04.104513",
     "status": "completed"
    },
    "tags": []
   },
   "source": [
    "###  RandomForest Model"
   ]
  },
  {
   "cell_type": "code",
   "execution_count": 38,
   "id": "b652539e",
   "metadata": {
    "execution": {
     "iopub.execute_input": "2025-01-04T12:54:04.161595Z",
     "iopub.status.busy": "2025-01-04T12:54:04.161173Z",
     "iopub.status.idle": "2025-01-04T12:58:24.590835Z",
     "shell.execute_reply": "2025-01-04T12:58:24.589772Z"
    },
    "papermill": {
     "duration": 260.469832,
     "end_time": "2025-01-04T12:58:24.611116",
     "exception": false,
     "start_time": "2025-01-04T12:54:04.141284",
     "status": "completed"
    },
    "tags": []
   },
   "outputs": [
    {
     "name": "stdout",
     "output_type": "stream",
     "text": [
      "Fitting 5 folds for each of 216 candidates, totalling 1080 fits\n",
      "Classification Report on Train Data:\n",
      "              precision    recall  f1-score   support\n",
      "\n",
      "           0       0.88      0.90      0.89       392\n",
      "           1       0.82      0.80      0.81       231\n",
      "\n",
      "    accuracy                           0.86       623\n",
      "   macro avg       0.85      0.85      0.85       623\n",
      "weighted avg       0.86      0.86      0.86       623\n",
      "\n",
      "Classification Report on Validation Data:\n",
      "              precision    recall  f1-score   support\n",
      "\n",
      "           0       0.84      0.91      0.88        70\n",
      "           1       0.90      0.81      0.85        64\n",
      "\n",
      "    accuracy                           0.87       134\n",
      "   macro avg       0.87      0.86      0.86       134\n",
      "weighted avg       0.87      0.87      0.87       134\n",
      "\n",
      "Classification Report on test Data:\n",
      "              precision    recall  f1-score   support\n",
      "\n",
      "           0       0.87      0.82      0.84        87\n",
      "           1       0.69      0.77      0.73        47\n",
      "\n",
      "    accuracy                           0.80       134\n",
      "   macro avg       0.78      0.79      0.78       134\n",
      "weighted avg       0.80      0.80      0.80       134\n",
      "\n"
     ]
    }
   ],
   "source": [
    "# Define the RandomForestClassifier\n",
    "RF_model = RandomForestClassifier(random_state=42, class_weight='balanced')\n",
    " \n",
    "\n",
    "# Define the parameter grid for GridSearchCV\n",
    "param_grid = {\n",
    "    'n_estimators': [200,300,500],  # Number of trees\n",
    "    'max_depth': [3, 5,7,10],  # Maximum depth of the tree\n",
    "    'min_samples_split': [3,5,7],  # Minimum number of samples to split a node\n",
    "    'min_samples_leaf': [1,2, 4],  # Minimum number of samples at a leaf node\n",
    "    'max_features': ['sqrt', 0.5],  # Number of features to consider\n",
    "}\n",
    "# Set up GridSearchCV\n",
    "grid_search_rf = GridSearchCV(\n",
    "    estimator=RF_model,\n",
    "    param_grid=param_grid,\n",
    "    cv=5,\n",
    "    n_jobs=-1,\n",
    "    verbose=2,\n",
    "    scoring='accuracy'\n",
    ")\n",
    "\n",
    "# Fit GridSearchCV\n",
    "grid_search_rf.fit(X_train, y_train)\n",
    "\n",
    "# Make predictions\n",
    "y_pred_train = grid_search_rf.predict(X_train)\n",
    "y_pred_val = grid_search_rf.predict(X_val)\n",
    "y_pred_test = grid_search_rf.predict(X_test)\n",
    "# Display classification reports\n",
    "print(\"Classification Report on Train Data:\")\n",
    "print(classification_report(y_train, y_pred_train))\n",
    "print(\"Classification Report on Validation Data:\")\n",
    "print(classification_report(y_val, y_pred_val))\n",
    "print(\"Classification Report on test Data:\")\n",
    "print(classification_report(y_test, y_pred_test))\n"
   ]
  },
  {
   "cell_type": "markdown",
   "id": "94c7f3a7",
   "metadata": {
    "papermill": {
     "duration": 0.019394,
     "end_time": "2025-01-04T12:58:24.648608",
     "exception": false,
     "start_time": "2025-01-04T12:58:24.629214",
     "status": "completed"
    },
    "tags": []
   },
   "source": [
    "__Observation__  :\n",
    "\n",
    "- Train accuracy = 86%\n",
    "- validation accuracy = 87%\n",
    "- Test accuracy = 80%"
   ]
  },
  {
   "cell_type": "markdown",
   "id": "d9bbe995",
   "metadata": {
    "papermill": {
     "duration": 0.017707,
     "end_time": "2025-01-04T12:58:24.684343",
     "exception": false,
     "start_time": "2025-01-04T12:58:24.666636",
     "status": "completed"
    },
    "tags": []
   },
   "source": [
    "### Bagging Calssifier"
   ]
  },
  {
   "cell_type": "code",
   "execution_count": 39,
   "id": "708505c4",
   "metadata": {
    "execution": {
     "iopub.execute_input": "2025-01-04T12:58:24.721514Z",
     "iopub.status.busy": "2025-01-04T12:58:24.721165Z",
     "iopub.status.idle": "2025-01-04T13:11:49.893599Z",
     "shell.execute_reply": "2025-01-04T13:11:49.892458Z"
    },
    "papermill": {
     "duration": 805.211522,
     "end_time": "2025-01-04T13:11:49.913753",
     "exception": false,
     "start_time": "2025-01-04T12:58:24.702231",
     "status": "completed"
    },
    "tags": []
   },
   "outputs": [
    {
     "name": "stdout",
     "output_type": "stream",
     "text": [
      "Fitting 5 folds for each of 1458 candidates, totalling 7290 fits\n",
      "Classification Report on Train Data:\n",
      "              precision    recall  f1-score   support\n",
      "\n",
      "           0       0.85      0.94      0.89       392\n",
      "           1       0.87      0.73      0.79       231\n",
      "\n",
      "    accuracy                           0.86       623\n",
      "   macro avg       0.86      0.83      0.84       623\n",
      "weighted avg       0.86      0.86      0.86       623\n",
      "\n",
      "Classification Report on Validation Data:\n",
      "              precision    recall  f1-score   support\n",
      "\n",
      "           0       0.79      0.91      0.85        70\n",
      "           1       0.89      0.73      0.80        64\n",
      "\n",
      "    accuracy                           0.83       134\n",
      "   macro avg       0.84      0.82      0.83       134\n",
      "weighted avg       0.84      0.83      0.83       134\n",
      "\n",
      "Classification Report on Test Data:\n",
      "              precision    recall  f1-score   support\n",
      "\n",
      "           0       0.81      0.91      0.86        87\n",
      "           1       0.78      0.62      0.69        47\n",
      "\n",
      "    accuracy                           0.81       134\n",
      "   macro avg       0.80      0.76      0.77       134\n",
      "weighted avg       0.80      0.81      0.80       134\n",
      "\n",
      "Best Parameters from GridSearchCV: {'bootstrap': False, 'estimator__max_depth': 5, 'estimator__min_samples_leaf': 1, 'estimator__min_samples_split': 2, 'max_features': 0.5, 'max_samples': 0.5, 'n_estimators': 50}\n"
     ]
    }
   ],
   "source": [
    " # Define BaggingClassifier with a DecisionTreeClassifier base estimator\n",
    "bagging = BaggingClassifier(\n",
    "    estimator=DecisionTreeClassifier(random_state=12),\n",
    "    random_state=12\n",
    ")\n",
    "\n",
    "# Define parameter grid\n",
    "param_grid = {\n",
    "    'n_estimators': [50, 100, 200],\n",
    "    'max_samples': [0.5, 0.8, 1.0],\n",
    "    'max_features': [0.5, 0.8, 1.0],\n",
    "    'bootstrap': [True, False],\n",
    "    'estimator__max_depth': [5, 10, None],  # Restrict tree depth\n",
    "    'estimator__min_samples_split': [2, 5, 10],\n",
    "    'estimator__min_samples_leaf': [1, 2, 4]\n",
    "}\n",
    "\n",
    "# Set up GridSearchCV\n",
    "grid_search_b = GridSearchCV(\n",
    "    estimator=bagging,\n",
    "    param_grid=param_grid,\n",
    "    cv=5,\n",
    "    n_jobs=-1,\n",
    "    verbose=2,\n",
    "    scoring='accuracy'  # Use a suitable metric like 'f1_weighted' if imbalanced\n",
    ")\n",
    "\n",
    "# Fit GridSearchCV\n",
    "grid_search_b.fit(X_train, y_train)\n",
    "\n",
    "# Make predictions\n",
    "y_pred_train = grid_search_b.predict(X_train)\n",
    "y_pred_val = grid_search_b.predict(X_val)\n",
    "y_pred_test = grid_search_b.predict(X_test)\n",
    "\n",
    "# Display classification reports\n",
    "print(\"Classification Report on Train Data:\")\n",
    "print(classification_report(y_train, y_pred_train))\n",
    "\n",
    "print(\"Classification Report on Validation Data:\")\n",
    "print(classification_report(y_val, y_pred_val))\n",
    "\n",
    "print(\"Classification Report on Test Data:\")\n",
    "print(classification_report(y_test, y_pred_test))\n",
    "\n",
    "# Print best parameters\n",
    "print(\"Best Parameters from GridSearchCV:\", grid_search_b.best_params_)\n"
   ]
  },
  {
   "cell_type": "markdown",
   "id": "cbd78fec",
   "metadata": {
    "papermill": {
     "duration": 0.018232,
     "end_time": "2025-01-04T13:11:49.951268",
     "exception": false,
     "start_time": "2025-01-04T13:11:49.933036",
     "status": "completed"
    },
    "tags": []
   },
   "source": [
    "__Observation__  :\n",
    "\n",
    "- Train accuracy = 86%\n",
    "- validation accuracy = 83%\n",
    "- Test accuracy = 81%"
   ]
  },
  {
   "cell_type": "markdown",
   "id": "2ebc7e11",
   "metadata": {
    "papermill": {
     "duration": 0.018444,
     "end_time": "2025-01-04T13:11:49.988320",
     "exception": false,
     "start_time": "2025-01-04T13:11:49.969876",
     "status": "completed"
    },
    "tags": []
   },
   "source": [
    "### GradientBoostingCalssifier "
   ]
  },
  {
   "cell_type": "code",
   "execution_count": 40,
   "id": "e4cab5cb",
   "metadata": {
    "execution": {
     "iopub.execute_input": "2025-01-04T13:11:50.027631Z",
     "iopub.status.busy": "2025-01-04T13:11:50.027236Z",
     "iopub.status.idle": "2025-01-04T13:13:57.567721Z",
     "shell.execute_reply": "2025-01-04T13:13:57.566533Z"
    },
    "papermill": {
     "duration": 127.580135,
     "end_time": "2025-01-04T13:13:57.587802",
     "exception": false,
     "start_time": "2025-01-04T13:11:50.007667",
     "status": "completed"
    },
    "tags": []
   },
   "outputs": [
    {
     "name": "stdout",
     "output_type": "stream",
     "text": [
      "Fitting 5 folds for each of 432 candidates, totalling 2160 fits\n",
      "Best Parameters from GridSearchCV: {'learning_rate': 0.1, 'max_depth': 3, 'max_features': 'sqrt', 'min_samples_leaf': 5, 'min_samples_split': 20, 'n_estimators': 100, 'subsample': 0.9}\n",
      "Classification Report on Train Data:\n",
      "              precision    recall  f1-score   support\n",
      "\n",
      "           0       0.86      0.93      0.90       392\n",
      "           1       0.87      0.75      0.80       231\n",
      "\n",
      "    accuracy                           0.87       623\n",
      "   macro avg       0.87      0.84      0.85       623\n",
      "weighted avg       0.87      0.87      0.86       623\n",
      "\n",
      "Classification Report on Validation Data:\n",
      "              precision    recall  f1-score   support\n",
      "\n",
      "           0       0.82      0.93      0.87        70\n",
      "           1       0.91      0.78      0.84        64\n",
      "\n",
      "    accuracy                           0.86       134\n",
      "   macro avg       0.87      0.85      0.86       134\n",
      "weighted avg       0.86      0.86      0.86       134\n",
      "\n",
      "Classification Report on Test Data:\n",
      "              precision    recall  f1-score   support\n",
      "\n",
      "           0       0.83      0.87      0.85        87\n",
      "           1       0.74      0.66      0.70        47\n",
      "\n",
      "    accuracy                           0.80       134\n",
      "   macro avg       0.78      0.77      0.77       134\n",
      "weighted avg       0.80      0.80      0.80       134\n",
      "\n"
     ]
    }
   ],
   "source": [
    " # Define the model\n",
    "Grad_bost = GradientBoostingClassifier(random_state=42)\n",
    "\n",
    "param_grid = {\n",
    "    'n_estimators': [100, 200], \n",
    "    'max_depth': [2, 3, 4], \n",
    "    'min_samples_split': [10, 20], \n",
    "    'min_samples_leaf': [5, 10], \n",
    "    'max_features': ['sqrt', 'log2'], \n",
    "    'learning_rate': [0.01, 0.05, 0.1], \n",
    "    'subsample': [0.7, 0.8, 0.9]\n",
    "}\n",
    "\n",
    "\n",
    "# Set up GridSearchCV\n",
    "grid_search = GridSearchCV(\n",
    "    estimator=Grad_bost, \n",
    "    param_grid=param_grid, \n",
    "    cv=5, \n",
    "    scoring='accuracy', \n",
    "    n_jobs=-1, \n",
    "    verbose=2\n",
    ")\n",
    "\n",
    "# Fit the model using GridSearchCV\n",
    "grid_search.fit(X_train, y_train)\n",
    "\n",
    "# Get best parameters\n",
    "print(\"Best Parameters from GridSearchCV:\", grid_search.best_params_)\n",
    "\n",
    "# Predict on train and validation data\n",
    "y_pred_train = grid_search.best_estimator_.predict(X_train)\n",
    "y_pred_val = grid_search.best_estimator_.predict(X_val)\n",
    "y_pred_test = grid_search.best_estimator_.predict(X_test)\n",
    "\n",
    "# Display classification reports\n",
    "print(\"Classification Report on Train Data:\")\n",
    "print(classification_report(y_train, y_pred_train))\n",
    "\n",
    "print(\"Classification Report on Validation Data:\")\n",
    "print(classification_report(y_val, y_pred_val))\n",
    "\n",
    "print(\"Classification Report on Test Data:\")\n",
    "print(classification_report(y_test, y_pred_test))\n"
   ]
  },
  {
   "cell_type": "markdown",
   "id": "059e5de7",
   "metadata": {
    "papermill": {
     "duration": 0.017993,
     "end_time": "2025-01-04T13:13:57.624807",
     "exception": false,
     "start_time": "2025-01-04T13:13:57.606814",
     "status": "completed"
    },
    "tags": []
   },
   "source": [
    "__Observation__  :\n",
    "\n",
    "- Train accuracy = 87%\n",
    "- validation accuracy = 86%\n",
    "- Test accuracy = 80%"
   ]
  },
  {
   "cell_type": "markdown",
   "id": "f56589ce",
   "metadata": {
    "papermill": {
     "duration": 0.018029,
     "end_time": "2025-01-04T13:13:57.661254",
     "exception": false,
     "start_time": "2025-01-04T13:13:57.643225",
     "status": "completed"
    },
    "tags": []
   },
   "source": [
    "### AdaBoostClassifier"
   ]
  },
  {
   "cell_type": "code",
   "execution_count": 41,
   "id": "4d6ced07",
   "metadata": {
    "execution": {
     "iopub.execute_input": "2025-01-04T13:13:57.700076Z",
     "iopub.status.busy": "2025-01-04T13:13:57.699654Z",
     "iopub.status.idle": "2025-01-04T13:14:03.617713Z",
     "shell.execute_reply": "2025-01-04T13:14:03.616486Z"
    },
    "papermill": {
     "duration": 5.939804,
     "end_time": "2025-01-04T13:14:03.619569",
     "exception": false,
     "start_time": "2025-01-04T13:13:57.679765",
     "status": "completed"
    },
    "tags": []
   },
   "outputs": [
    {
     "name": "stdout",
     "output_type": "stream",
     "text": [
      "Classification Report on Train Data:\n",
      "              precision    recall  f1-score   support\n",
      "\n",
      "           0       0.85      0.90      0.87       392\n",
      "           1       0.81      0.74      0.77       231\n",
      "\n",
      "    accuracy                           0.84       623\n",
      "   macro avg       0.83      0.82      0.82       623\n",
      "weighted avg       0.84      0.84      0.84       623\n",
      "\n",
      "Classification Report on Validation Data:\n",
      "              precision    recall  f1-score   support\n",
      "\n",
      "           0       0.83      0.91      0.87        70\n",
      "           1       0.89      0.80      0.84        64\n",
      "\n",
      "    accuracy                           0.86       134\n",
      "   macro avg       0.86      0.86      0.86       134\n",
      "weighted avg       0.86      0.86      0.86       134\n",
      "\n",
      "Classification Report on Test Data:\n",
      "              precision    recall  f1-score   support\n",
      "\n",
      "           0       0.85      0.85      0.85        87\n",
      "           1       0.72      0.72      0.72        47\n",
      "\n",
      "    accuracy                           0.81       134\n",
      "   macro avg       0.79      0.79      0.79       134\n",
      "weighted avg       0.81      0.81      0.81       134\n",
      "\n"
     ]
    }
   ],
   "source": [
    "Ada_bost =AdaBoostClassifier(random_state=12)\n",
    "\n",
    "\n",
    "# AdaBoost parameters\n",
    "ada_params = {\n",
    "    'n_estimators': [200,100],\n",
    "    'learning_rate' : [0.75,0.1]\n",
    "}\n",
    "\n",
    "ada_bost_cv =GridSearchCV(Ada_bost,ada_params,cv=5,scoring='accuracy')\n",
    "\n",
    "ada_bost_cv.fit(X_train,y_train)\n",
    "\n",
    "y_pred_train =ada_bost_cv.predict(X_train)\n",
    "y_pred_val =ada_bost_cv.predict(X_val)\n",
    "y_pred_test =ada_bost_cv.predict(X_test)\n",
    "\n",
    "# Display classification reports\n",
    "print(\"Classification Report on Train Data:\")\n",
    "print(classification_report(y_train, y_pred_train))\n",
    "\n",
    "print(\"Classification Report on Validation Data:\")\n",
    "print(classification_report(y_val, y_pred_val))\n",
    "\n",
    "print(\"Classification Report on Test Data:\")\n",
    "print(classification_report(y_test, y_pred_test))\n",
    "\n",
    "\n",
    "\n"
   ]
  },
  {
   "cell_type": "markdown",
   "id": "9396f171",
   "metadata": {
    "papermill": {
     "duration": 0.018219,
     "end_time": "2025-01-04T13:14:03.656587",
     "exception": false,
     "start_time": "2025-01-04T13:14:03.638368",
     "status": "completed"
    },
    "tags": []
   },
   "source": [
    "__Observation__  :\n",
    "\n",
    "- Train accuracy = 84%\n",
    "- validation accuracy = 86%\n",
    "- Test accuracy = 81%"
   ]
  },
  {
   "cell_type": "markdown",
   "id": "5d827181",
   "metadata": {
    "papermill": {
     "duration": 0.01809,
     "end_time": "2025-01-04T13:14:03.693105",
     "exception": false,
     "start_time": "2025-01-04T13:14:03.675015",
     "status": "completed"
    },
    "tags": []
   },
   "source": [
    "### XGBClassifer"
   ]
  },
  {
   "cell_type": "code",
   "execution_count": 42,
   "id": "da35ac7b",
   "metadata": {
    "execution": {
     "iopub.execute_input": "2025-01-04T13:14:03.731122Z",
     "iopub.status.busy": "2025-01-04T13:14:03.730733Z",
     "iopub.status.idle": "2025-01-04T13:20:24.230347Z",
     "shell.execute_reply": "2025-01-04T13:20:24.229042Z"
    },
    "papermill": {
     "duration": 380.539896,
     "end_time": "2025-01-04T13:20:24.251282",
     "exception": false,
     "start_time": "2025-01-04T13:14:03.711386",
     "status": "completed"
    },
    "tags": []
   },
   "outputs": [
    {
     "name": "stdout",
     "output_type": "stream",
     "text": [
      "Classification Report on Train Data:\n",
      "              precision    recall  f1-score   support\n",
      "\n",
      "           0       0.84      0.93      0.88       392\n",
      "           1       0.86      0.71      0.77       231\n",
      "\n",
      "    accuracy                           0.85       623\n",
      "   macro avg       0.85      0.82      0.83       623\n",
      "weighted avg       0.85      0.85      0.84       623\n",
      "\n",
      "Classification Report on Validation Data:\n",
      "              precision    recall  f1-score   support\n",
      "\n",
      "           0       0.81      0.91      0.86        70\n",
      "           1       0.89      0.77      0.82        64\n",
      "\n",
      "    accuracy                           0.84       134\n",
      "   macro avg       0.85      0.84      0.84       134\n",
      "weighted avg       0.85      0.84      0.84       134\n",
      "\n",
      "Classification Report on Test Data:\n",
      "              precision    recall  f1-score   support\n",
      "\n",
      "           0       0.83      0.87      0.85        87\n",
      "           1       0.74      0.66      0.70        47\n",
      "\n",
      "    accuracy                           0.80       134\n",
      "   macro avg       0.78      0.77      0.77       134\n",
      "weighted avg       0.80      0.80      0.80       134\n",
      "\n"
     ]
    }
   ],
   "source": [
    "xgboost = XGBClassifier()\n",
    " \n",
    "\n",
    "param_grid = {\n",
    "    'n_estimators': [50, 100, 150],    # Reduced number of estimators\n",
    "    'learning_rate': [0.01, 0.05],     # Lower learning rates\n",
    "    'max_depth': [3, 4],                # Smaller max depth to prevent overfitting\n",
    "    'subsample': [0.7, 0.8, 0.9],       # Use smaller subsample\n",
    "    'colsample_bytree': [0.7, 0.8],     # Lower column sampling\n",
    "    'gamma': [0, 0.1],                 # Apply minimal regularization\n",
    "    'alpha': [0.01, 0.1],              # L1 regularization\n",
    "    'lambda': [0.01, 0.1],             # L2 regularization\n",
    "    'min_child_weight': [5, 10, 20]     # Conservative tree splitting\n",
    "}\n",
    "grid_search_xg = GridSearchCV(\n",
    "    estimator=xgboost,\n",
    "    param_grid=param_grid,\n",
    "    scoring='accuracy', \n",
    "    cv=5\n",
    ")\n",
    "grid_search_xg.fit(X_train,y_train)\n",
    "\n",
    "y_pred_train =grid_search_xg.predict(X_train)\n",
    "y_pred_val =grid_search_xg.predict(X_val)\n",
    "y_pred_test = grid_search_xg.predict(X_test)\n",
    "\n",
    "# Display classification reports\n",
    "print(\"Classification Report on Train Data:\")\n",
    "print(classification_report(y_train, y_pred_train))\n",
    "\n",
    "print(\"Classification Report on Validation Data:\")\n",
    "print(classification_report(y_val, y_pred_val))\n",
    "\n",
    "print(\"Classification Report on Test Data:\")\n",
    "print(classification_report(y_test, y_pred_test))\n",
    "\n",
    "\n"
   ]
  },
  {
   "cell_type": "markdown",
   "id": "6eac5c2c",
   "metadata": {
    "papermill": {
     "duration": 0.01847,
     "end_time": "2025-01-04T13:20:24.289378",
     "exception": false,
     "start_time": "2025-01-04T13:20:24.270908",
     "status": "completed"
    },
    "tags": []
   },
   "source": [
    "__Observation__  :\n",
    "\n",
    "- Train accuracy = 85%\n",
    "- validation accuracy = 84%\n",
    "- Test accuracy = 80%"
   ]
  },
  {
   "cell_type": "markdown",
   "id": "65451076",
   "metadata": {
    "papermill": {
     "duration": 0.018185,
     "end_time": "2025-01-04T13:20:24.327634",
     "exception": false,
     "start_time": "2025-01-04T13:20:24.309449",
     "status": "completed"
    },
    "tags": []
   },
   "source": [
    "### SVC"
   ]
  },
  {
   "cell_type": "code",
   "execution_count": 43,
   "id": "83441fc2",
   "metadata": {
    "execution": {
     "iopub.execute_input": "2025-01-04T13:20:24.366624Z",
     "iopub.status.busy": "2025-01-04T13:20:24.366258Z",
     "iopub.status.idle": "2025-01-04T13:20:24.420312Z",
     "shell.execute_reply": "2025-01-04T13:20:24.418838Z"
    },
    "papermill": {
     "duration": 0.076067,
     "end_time": "2025-01-04T13:20:24.422220",
     "exception": false,
     "start_time": "2025-01-04T13:20:24.346153",
     "status": "completed"
    },
    "tags": []
   },
   "outputs": [
    {
     "name": "stdout",
     "output_type": "stream",
     "text": [
      "Classification Report on Train Data:\n",
      "              precision    recall  f1-score   support\n",
      "\n",
      "           0       0.85      0.87      0.86       392\n",
      "           1       0.77      0.73      0.75       231\n",
      "\n",
      "    accuracy                           0.82       623\n",
      "   macro avg       0.81      0.80      0.81       623\n",
      "weighted avg       0.82      0.82      0.82       623\n",
      "\n",
      "Classification Report on Validation Data:\n",
      "              precision    recall  f1-score   support\n",
      "\n",
      "           0       0.84      0.87      0.85        70\n",
      "           1       0.85      0.81      0.83        64\n",
      "\n",
      "    accuracy                           0.84       134\n",
      "   macro avg       0.84      0.84      0.84       134\n",
      "weighted avg       0.84      0.84      0.84       134\n",
      "\n",
      "Classification Report on Test Data:\n",
      "              precision    recall  f1-score   support\n",
      "\n",
      "           0       0.85      0.84      0.84        87\n",
      "           1       0.71      0.72      0.72        47\n",
      "\n",
      "    accuracy                           0.80       134\n",
      "   macro avg       0.78      0.78      0.78       134\n",
      "weighted avg       0.80      0.80      0.80       134\n",
      "\n"
     ]
    }
   ],
   "source": [
    "# Support Vector Classifier parameters \n",
    " \n",
    "svm = SVC(kernel= 'linear',C = 0.025)\n",
    "\n",
    "svm.fit(X_train,y_train)\n",
    "\n",
    "y_pred_train =svm.predict(X_train)\n",
    "y_pred_val =svm.predict(X_val)\n",
    "y_pred_test=svm.predict(X_test)\n",
    "\n",
    "# Display classification reports\n",
    "print(\"Classification Report on Train Data:\")\n",
    "print(classification_report(y_train, y_pred_train))\n",
    "\n",
    "print(\"Classification Report on Validation Data:\")\n",
    "print(classification_report(y_val, y_pred_val))\n",
    "\n",
    "print(\"Classification Report on Test Data:\")\n",
    "print(classification_report(y_test, y_pred_test))\n"
   ]
  },
  {
   "cell_type": "markdown",
   "id": "03fb4dee",
   "metadata": {
    "papermill": {
     "duration": 0.018441,
     "end_time": "2025-01-04T13:20:24.459941",
     "exception": false,
     "start_time": "2025-01-04T13:20:24.441500",
     "status": "completed"
    },
    "tags": []
   },
   "source": [
    "__Observation__  :\n",
    "\n",
    "- Train accuracy = 82%\n",
    "- validation accuracy = 84%\n",
    "- Test accuracy = 80%"
   ]
  },
  {
   "cell_type": "code",
   "execution_count": 44,
   "id": "8587a8c9",
   "metadata": {
    "execution": {
     "iopub.execute_input": "2025-01-04T13:20:24.498737Z",
     "iopub.status.busy": "2025-01-04T13:20:24.498391Z",
     "iopub.status.idle": "2025-01-04T13:20:24.514876Z",
     "shell.execute_reply": "2025-01-04T13:20:24.512938Z"
    },
    "papermill": {
     "duration": 0.037986,
     "end_time": "2025-01-04T13:20:24.516709",
     "exception": false,
     "start_time": "2025-01-04T13:20:24.478723",
     "status": "completed"
    },
    "tags": []
   },
   "outputs": [
    {
     "name": "stdout",
     "output_type": "stream",
     "text": [
      "Your submission was successfully saved!\n"
     ]
    }
   ],
   "source": [
    "predictions =grid_search_xg.predict(df_test)\n",
    "output = pd.DataFrame({'PassengerId': passenger_ID, 'Survived': predictions})\n",
    "\n",
    "output.to_csv('submission.csv', index=False)\n",
    "print(\"Your submission was successfully saved!\")"
   ]
  }
 ],
 "metadata": {
  "kaggle": {
   "accelerator": "none",
   "dataSources": [
    {
     "databundleVersionId": 26502,
     "sourceId": 3136,
     "sourceType": "competition"
    }
   ],
   "dockerImageVersionId": 30823,
   "isGpuEnabled": false,
   "isInternetEnabled": true,
   "language": "python",
   "sourceType": "notebook"
  },
  "kernelspec": {
   "display_name": "Python 3",
   "language": "python",
   "name": "python3"
  },
  "language_info": {
   "codemirror_mode": {
    "name": "ipython",
    "version": 3
   },
   "file_extension": ".py",
   "mimetype": "text/x-python",
   "name": "python",
   "nbconvert_exporter": "python",
   "pygments_lexer": "ipython3",
   "version": "3.10.12"
  },
  "papermill": {
   "default_parameters": {},
   "duration": 1599.267715,
   "end_time": "2025-01-04T13:20:25.362624",
   "environment_variables": {},
   "exception": null,
   "input_path": "__notebook__.ipynb",
   "output_path": "__notebook__.ipynb",
   "parameters": {},
   "start_time": "2025-01-04T12:53:46.094909",
   "version": "2.6.0"
  }
 },
 "nbformat": 4,
 "nbformat_minor": 5
}
